{
 "cells": [
  {
   "cell_type": "markdown",
   "metadata": {
    "collapsed": true,
    "pycharm": {
     "name": "#%% md\n"
    }
   },
   "source": [
    "# Chapter 3. Collections"
   ]
  },
  {
   "cell_type": "markdown",
   "source": [
    "# Section 3.1 Lists and Tuples\n",
    "list - position based index, similar to string"
   ],
   "metadata": {
    "collapsed": false
   }
  },
  {
   "cell_type": "code",
   "execution_count": null,
   "outputs": [],
   "source": [
    "# list - position based index, similar to string\n",
    "a = [1, 2, 3, 4, 5, 6, 7, 8, 9, 10]\n",
    "print(a[1])\n",
    "print(a[1:5])  # slice and dice\n",
    "print(a[3:])\n",
    "print(a[:7])\n",
    "print(a[-1])  # last element, no need to compute length of the list.\n",
    "print(a[::2])  # every other item\n",
    "print(a[::-1])  # reverse\n",
    "\n",
    "print(len(a))  # aggregations\n",
    "print(min(a))\n",
    "print(max(a))\n",
    "print(sum(a))\n",
    "first, *_ = a  # we care only the first\n",
    "print(first)\n",
    "first, *middle, last = a  # unpack\n",
    "print(first)\n",
    "print(middle)\n",
    "print(last)\n",
    "\n",
    "b = list('hello, world')\n",
    "# typed list: list[int] defensive coding\n",
    "# append, insert, remove, modify\n",
    "b[1] = 1000  # change value\n",
    "print(b)\n",
    "\n",
    "print(a[1:7:2])\n",
    "a[1:7:2] = [0, 0, 0]  # This is fast, list allow duplicate values, need to know the size first\n",
    "print(a)\n",
    "\n",
    "r = [1, 3, 5, 7, 9]\n",
    "r.insert(0, 5)  # insert item at the given position 0\n",
    "print(r)\n",
    "r.remove(5)  # remove only the first occurrence of value 5\n",
    "print(r)\n",
    "r.insert(0, 5)  # insert item at the given position 0\n",
    "r.clear()  # remove all elements\n",
    "print(r)\n",
    "\n",
    "# tuple is immutable list\n",
    "a = (1, 2, 3)\n",
    "# a[1] = 4 is not working\n",
    "\n",
    "# check types: type()\n",
    "\n",
    "# any and all\n",
    "\n",
    "# mixed data types\n",
    "b = ['abcd', 786, 2.23, 'john', 70.2]\n",
    "print(b * 2)\n",
    "print(a + b)  # same as a.extend(b)\n",
    "\n",
    "\n",
    "print(len(a))  # aggregations\n",
    "print(min(a))\n",
    "print(max(a))\n",
    "print(sum(a))\n",
    "first, *_ = a  # we care only the first\n",
    "print(first)\n",
    "first, *middle, last = a  # unpack\n",
    "print(first)\n",
    "print(middle)\n",
    "print(last)\n",
    "\n",
    "print(list(reversed(a)))  # a is not change\n",
    "a.reverse()  # change in place\n",
    "print(a)\n",
    "print(sorted(a))  # create new sorted list\n",
    "a.sort()  # in place sort\n",
    "print(a)\n",
    "\n",
    "c = ['I', 'am', 'Sam']\n",
    "print(', '.join(c))\n",
    "\n",
    "f = [1, 2, 3]\n",
    "g = f.copy()\n",
    "print(g)\n",
    "g[1] = 5\n",
    "print(f)  # f is not changed\n",
    "print(g)  # g is changed\n",
    "f = [[1, 2, 3], [4, 5, 6]]\n",
    "g = f.copy()\n",
    "g[1][2] = 100\n",
    "print(f)  # f is changed due to shallow copy, undesired effect\n",
    "print(g)  # g is changed\n",
    "\n",
    "f = [[1, 2, 3], [4, 5, 6]]\n",
    "import copy\n",
    "g = copy.deepcopy(f)\n",
    "g[1][2] = 100\n",
    "print(f)  # f is not changed due to deep copy\n",
    "print(g)  # g is changed\n",
    "\n",
    "# version comparison - a version has major, minor, and patch, such as 1.3.0.\n",
    "\n",
    "# multi for loops\n",
    "\n",
    "\n",
    "\n",
    "# tuple is immutable list\n",
    "a = (1, 2, 3)\n",
    "# a[1] = 4 is not working\n"
   ],
   "metadata": {
    "collapsed": false,
    "pycharm": {
     "name": "#%%\n"
    }
   }
  },
  {
   "cell_type": "markdown",
   "source": [
    "# Section 3.2 Dictionaries\n",
    "dict - key based index, unordered"
   ],
   "metadata": {
    "collapsed": false
   }
  },
  {
   "cell_type": "code",
   "execution_count": null,
   "outputs": [],
   "source": [
    "grades = {'Ashley': 95, 'Gregory': 90, 'Rick': 70}\n",
    "print(grades['Ashley'])\n",
    "print(grades.get('Arthur', None))  # default to None\n",
    "# print(grades['Arthur']) this is not working, KeyError\n",
    "print(grades.keys)\n",
    "print(grades.values())\n",
    "print(grades.items())\n",
    "\n",
    "\n",
    "grades['Olivia'] = 87  # add key value pair\n",
    "print(grades)\n",
    "\n",
    "prices = dict(iphone=100, nick=50, shirt=30)  # more like function parameters\n",
    "print(prices['iphone'])"
   ],
   "metadata": {
    "collapsed": false,
    "pycharm": {
     "name": "#%%\n"
    }
   }
  },
  {
   "cell_type": "markdown",
   "source": [
    "# Section 3.3 Sets and Frozensets\n",
    "dict - key based index, unordered\n",
    "performance - check \"in or not\" is fast\n",
    "O(n) notation, binary search"
   ],
   "metadata": {
    "collapsed": false
   }
  },
  {
   "cell_type": "code",
   "execution_count": null,
   "outputs": [],
   "source": [
    "# set and frozenset, distinct values\n",
    "fruits = {'Apple', 'Banana', 'Orange'}\n",
    "\n",
    "storage = set(a)  # create from a list/tuple\n",
    "\n",
    "storage.add(4)\n",
    "storage.update([5, 6])\n",
    "print(storage)\n",
    "storage.remove(5)\n",
    "print(storage)\n",
    "\n",
    "# set operations: superset or subset\n",
    "\n",
    "# tuple and frozenset are immutable.\n",
    "\n",
    "\n",
    "print(list('abcd'))  # ['a', 'b', 'c', 'd']\n",
    "print(tuple('abcd'))  # ('a', 'b', 'c', 'd')\n",
    "print(set('abcd'))  # {'a', 'b', 'c', 'd'}"
   ],
   "metadata": {
    "collapsed": false,
    "pycharm": {
     "name": "#%%\n"
    }
   }
  },
  {
   "cell_type": "markdown",
   "source": [
    "# Section 3.4 Collections and Others"
   ],
   "metadata": {
    "collapsed": false
   }
  },
  {
   "cell_type": "code",
   "execution_count": null,
   "outputs": [],
   "source": [
    "# collections module\n",
    "from collections import namedtuple\n",
    "namedtuple('Envelop', ['subject', 'from_addr', 'to_addr', 'headers'])\n",
    "\n",
    "# we touched only the built-in collections. There are other widely used\n",
    "# collections, such as queue, stack, trees and graphs.\n",
    "# for linked list, queue, stack, check these:\n",
    "#     built in queue\n",
    "#     built in collections has a deque\n",
    "# for trees:\n",
    "#     https://github.com/mozman/bintrees\n",
    "#     https://pypi.org/project/sortedcontainers/\n",
    "#     https://treelib.readthedocs.io/en/latest/\n",
    "# for graphs, check networkx\n",
    "\n",
    "# https://github.com/mlenzen/collections-extended\n",
    "\n",
    "# Data structures\n",
    "# Linked List, Stack, Queue, Tree, Graph\n",
    "\n",
    "# google python collection -module\n",
    "\n",
    "# bag: count how many of apples, orange\n",
    "\n",
    "# hashing"
   ],
   "metadata": {
    "collapsed": false,
    "pycharm": {
     "name": "#%%\n"
    }
   }
  }
 ],
 "metadata": {
  "kernelspec": {
   "display_name": "Python 3",
   "language": "python",
   "name": "python3"
  },
  "language_info": {
   "codemirror_mode": {
    "name": "ipython",
    "version": 2
   },
   "file_extension": ".py",
   "mimetype": "text/x-python",
   "name": "python",
   "nbconvert_exporter": "python",
   "pygments_lexer": "ipython2",
   "version": "2.7.6"
  }
 },
 "nbformat": 4,
 "nbformat_minor": 0
}