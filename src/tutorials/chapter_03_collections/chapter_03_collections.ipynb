{
 "cells": [
  {
   "cell_type": "markdown",
   "metadata": {
    "collapsed": true,
    "pycharm": {
     "name": "#%% md\n"
    }
   },
   "source": [
    "# Chapter 3. Collections\n",
    "\n",
    "Collections are value containers. It's part of the topic \"Data Structure and\n",
    "Algorithms\". For different types of contains, we care operation costs."
   ]
  },
  {
   "cell_type": "markdown",
   "source": [
    "# Section 3.1 Lists and Tuples\n",
    "list - position based index, similar to string"
   ],
   "metadata": {
    "collapsed": false
   }
  },
  {
   "cell_type": "code",
   "execution_count": 62,
   "outputs": [
    {
     "name": "stdout",
     "output_type": "stream",
     "text": [
      "2\n",
      "[2, 3, 4, 5]\n",
      "[4, 5, 6, 7, 8, 9, 10]\n",
      "[1, 2, 3, 4, 5, 6, 7]\n",
      "10\n",
      "[1, 3, 5, 7, 9]\n",
      "[10, 9, 8, 7, 6, 5, 4, 3, 2, 1]\n"
     ]
    }
   ],
   "source": [
    "# list - position based index, similar to string\n",
    "a = [1, 2, 3, 4, 5, 6, 7, 8, 9, 10]\n",
    "print(a[1])\n",
    "print(a[1:5])  # slice and dice\n",
    "print(a[3:])\n",
    "print(a[:7])\n",
    "print(a[-1])  # last element, no need to compute length of the list.\n",
    "print(a[::2])  # every other item\n",
    "print(a[::-1])  # reverse"
   ],
   "metadata": {
    "collapsed": false,
    "pycharm": {
     "name": "#%%\n"
    }
   }
  },
  {
   "cell_type": "code",
   "execution_count": 63,
   "outputs": [
    {
     "name": "stdout",
     "output_type": "stream",
     "text": [
      "10\n",
      "1\n",
      "10\n",
      "55\n"
     ]
    }
   ],
   "source": [
    "print(len(a))  # aggregations\n",
    "print(min(a))\n",
    "print(max(a))\n",
    "print(sum(a))"
   ],
   "metadata": {
    "collapsed": false,
    "pycharm": {
     "name": "#%%\n"
    }
   }
  },
  {
   "cell_type": "code",
   "execution_count": 64,
   "outputs": [
    {
     "name": "stdout",
     "output_type": "stream",
     "text": [
      "1\n",
      "1\n",
      "[2, 3, 4, 5, 6, 7, 8, 9]\n",
      "10\n"
     ]
    }
   ],
   "source": [
    "first, *_ = a  # we care only the first\n",
    "print(first)\n",
    "first, *middle, last = a  # unpack\n",
    "print(first)\n",
    "print(middle)\n",
    "print(last)"
   ],
   "metadata": {
    "collapsed": false,
    "pycharm": {
     "name": "#%%\n"
    }
   }
  },
  {
   "cell_type": "code",
   "execution_count": 65,
   "outputs": [
    {
     "name": "stdout",
     "output_type": "stream",
     "text": [
      "['h', 1000, 'l', 'l', 'o', ',', ' ', 'w', 'o', 'r', 'l', 'd']\n",
      "[2, 4, 6]\n",
      "[1, 0, 3, 0, 5, 0, 7, 8, 9, 10]\n"
     ]
    }
   ],
   "source": [
    "b = list('hello, world')\n",
    "# typed list: list[int] defensive coding\n",
    "# append, insert, remove, modify\n",
    "b[1] = 1000  # change value\n",
    "print(b)\n",
    "\n",
    "a = [1, 2, 3, 4, 5, 6, 7, 8, 9, 10]\n",
    "print(a[1:7:2])\n",
    "a[1:7:2] = [0, 0, 0]  # This is fast, list allow duplicate values, need to know the size first\n",
    "print(a)"
   ],
   "metadata": {
    "collapsed": false,
    "pycharm": {
     "name": "#%%\n"
    }
   }
  },
  {
   "cell_type": "code",
   "execution_count": 1,
   "outputs": [
    {
     "name": "stderr",
     "output_type": "stream",
     "text": [
      "Traceback (most recent call last):\n",
      "  File \"<ipython-input-1-c800423cd5d8>\", line 4, in <module>\n",
      "    a[1] = 4\n",
      "TypeError: 'tuple' object does not support item assignment\n"
     ]
    }
   ],
   "source": [
    "# tuple is immutable list\n",
    "a = (1, 2, 3)\n",
    "try:\n",
    "    a[1] = 4\n",
    "except TypeError:\n",
    "    import traceback\n",
    "    traceback.print_exc()"
   ],
   "metadata": {
    "collapsed": false,
    "pycharm": {
     "name": "#%%\n"
    }
   }
  },
  {
   "cell_type": "code",
   "execution_count": 67,
   "outputs": [
    {
     "name": "stdout",
     "output_type": "stream",
     "text": [
      "[5, 1, 3, 5, 7, 9]\n",
      "[1, 3, 5, 7, 9]\n",
      "[]\n",
      "<class 'list'>\n"
     ]
    }
   ],
   "source": [
    "r = [1, 3, 5, 7, 9]\n",
    "r.insert(0, 5)  # insert item at the given position 0\n",
    "print(r)\n",
    "r.remove(5)  # remove only the first occurrence of value 5\n",
    "print(r)\n",
    "r.insert(0, 5)  # insert item at the given position 0\n",
    "r.clear()  # remove all elements\n",
    "print(r)\n",
    "\n",
    "print(type(r))\n"
   ],
   "metadata": {
    "collapsed": false,
    "pycharm": {
     "name": "#%%\n"
    }
   }
  },
  {
   "cell_type": "code",
   "execution_count": 68,
   "outputs": [
    {
     "name": "stdout",
     "output_type": "stream",
     "text": [
      "['abcd', 786, 2.23, 'john', 70.2, 'abcd', 786, 2.23, 'john', 70.2]\n",
      "[1, 2, 3, 4, 5, 6, 7, 8, 9, 10, 'abcd', 786, 2.23, 'john', 70.2]\n"
     ]
    }
   ],
   "source": [
    "# mixed data types\n",
    "a = [1, 2, 3, 4, 5, 6, 7, 8, 9, 10]\n",
    "b = ['abcd', 786, 2.23, 'john', 70.2]\n",
    "print(b * 2)\n",
    "print(a + b)  # same as a.extend(b)"
   ],
   "metadata": {
    "collapsed": false,
    "pycharm": {
     "name": "#%%\n"
    }
   }
  },
  {
   "cell_type": "code",
   "execution_count": 69,
   "outputs": [
    {
     "name": "stdout",
     "output_type": "stream",
     "text": [
      "[10, 9, 8, 7, 6, 5, 4, 3, 2, 1]\n",
      "[10, 9, 8, 7, 6, 5, 4, 3, 2, 1]\n",
      "[1, 2, 3, 4, 5, 6, 7, 8, 9, 10]\n",
      "[1, 2, 3, 4, 5, 6, 7, 8, 9, 10]\n",
      "I_am_Sam\n"
     ]
    }
   ],
   "source": [
    "print(list(reversed(a)))  # a is not change\n",
    "a.reverse()  # change in place\n",
    "print(a)\n",
    "print(sorted(a))  # create new sorted list\n",
    "a.sort()  # in place sort\n",
    "print(a)\n",
    "\n",
    "sorted([1, 4, 7], reverse=True)\n",
    "sorted(['apple', 'watermelon', 'pear', 'banana'], key=lambda x: len(x))\n",
    "\n",
    "\n",
    "c = ['I', 'am', 'Sam']\n",
    "print('_'.join(c))"
   ],
   "metadata": {
    "collapsed": false,
    "pycharm": {
     "name": "#%%\n"
    }
   }
  },
  {
   "cell_type": "code",
   "execution_count": 70,
   "outputs": [
    {
     "name": "stdout",
     "output_type": "stream",
     "text": [
      "[1, 2, 3]\n",
      "[1, 2, 3]\n",
      "[1, 5, 3]\n",
      "[[1, 2, 3], [4, 5, 100]]\n",
      "[[1, 2, 3], [4, 5, 100]]\n"
     ]
    }
   ],
   "source": [
    "f = [1, 2, 3]\n",
    "g = f.copy()\n",
    "print(g)\n",
    "g[1] = 5\n",
    "print(f)  # f is not changed\n",
    "print(g)  # g is changed\n",
    "f = [[1, 2, 3], [4, 5, 6]]\n",
    "g = f.copy()\n",
    "g[1][2] = 100\n",
    "print(f)  # f is changed due to shallow copy, undesired effect\n",
    "print(g)  # g is changed"
   ],
   "metadata": {
    "collapsed": false,
    "pycharm": {
     "name": "#%%\n"
    }
   }
  },
  {
   "cell_type": "code",
   "execution_count": 71,
   "outputs": [
    {
     "name": "stdout",
     "output_type": "stream",
     "text": [
      "[[1, 2, 3], [4, 5, 6]]\n",
      "[[1, 2, 3], [4, 5, 100]]\n"
     ]
    }
   ],
   "source": [
    "f = [[1, 2, 3], [4, 5, 6]]\n",
    "import copy\n",
    "g = copy.deepcopy(f)\n",
    "g[1][2] = 100\n",
    "print(f)  # f is not changed due to deep copy\n",
    "print(g)  # g is changed"
   ],
   "metadata": {
    "collapsed": false,
    "pycharm": {
     "name": "#%%\n"
    }
   }
  },
  {
   "cell_type": "code",
   "execution_count": 72,
   "outputs": [],
   "source": [
    "# version comparison - a version has major, minor, and patch, such as 1.3.0."
   ],
   "metadata": {
    "collapsed": false,
    "pycharm": {
     "name": "#%%\n"
    }
   }
  },
  {
   "cell_type": "markdown",
   "source": [
    "# Section 3.2 Dictionaries\n",
    "dict - key based index, unordered"
   ],
   "metadata": {
    "collapsed": false
   }
  },
  {
   "cell_type": "code",
   "execution_count": 73,
   "outputs": [
    {
     "name": "stdout",
     "output_type": "stream",
     "text": [
      "95\n",
      "None\n",
      "<built-in method keys of dict object at 0x000001FD69599FC0>\n",
      "dict_values([95, 90, 70])\n",
      "dict_items([('Ashley', 95), ('Gregory', 90), ('Rick', 70)])\n",
      "{'Ashley': 95, 'Gregory': 90, 'Rick': 70, 'Olivia': 87}\n",
      "100\n"
     ]
    }
   ],
   "source": [
    "grades = {'Ashley': 95, 'Gregory': 90, 'Rick': 70}\n",
    "print(grades['Ashley'])\n",
    "print(grades.get('Arthur', None))  # default to None\n",
    "# print(grades['Arthur']) this is not working, KeyError\n",
    "print(grades.keys)\n",
    "print(grades.values())\n",
    "print(grades.items())\n",
    "\n",
    "grades['Olivia'] = 87  # add key value pair\n",
    "print(grades)\n",
    "\n",
    "prices = dict(iphone=100, nick=50, shirt=30)  # more like function parameters\n",
    "print(prices['iphone'])"
   ],
   "metadata": {
    "collapsed": false,
    "pycharm": {
     "name": "#%%\n"
    }
   }
  },
  {
   "cell_type": "markdown",
   "source": [
    "# Section 3.3 Sets and Frozensets\n",
    "dict - key based index, unordered\n",
    "performance - check \"in or not\" is fast\n",
    "O(n) notation, binary search"
   ],
   "metadata": {
    "collapsed": false
   }
  },
  {
   "cell_type": "code",
   "execution_count": 74,
   "outputs": [
    {
     "name": "stdout",
     "output_type": "stream",
     "text": [
      "{1, 2, 3, 4, 5, 6, 7, 8, 9, 10}\n",
      "{1, 2, 3, 4, 6, 7, 8, 9, 10}\n"
     ]
    }
   ],
   "source": [
    "# set and frozenset, distinct values\n",
    "fruits = {'Apple', 'Banana', 'Orange'}\n",
    "\n",
    "storage = set(a)  # create from a list/tuple\n",
    "\n",
    "storage.add(4)\n",
    "storage.update([5, 6])\n",
    "print(storage)\n",
    "storage.remove(5)\n",
    "print(storage)"
   ],
   "metadata": {
    "collapsed": false,
    "pycharm": {
     "name": "#%%\n"
    }
   }
  },
  {
   "cell_type": "code",
   "execution_count": 75,
   "outputs": [],
   "source": [
    "# set operations: superset or subset"
   ],
   "metadata": {
    "collapsed": false,
    "pycharm": {
     "name": "#%%\n"
    }
   }
  },
  {
   "cell_type": "code",
   "execution_count": 76,
   "outputs": [],
   "source": [
    "# frozenset are immutable.\n"
   ],
   "metadata": {
    "collapsed": false,
    "pycharm": {
     "name": "#%%\n"
    }
   }
  },
  {
   "cell_type": "code",
   "execution_count": 77,
   "outputs": [
    {
     "name": "stdout",
     "output_type": "stream",
     "text": [
      "['a', 'b', 'c', 'd']\n",
      "('a', 'b', 'c', 'd')\n",
      "{'b', 'c', 'a', 'd'}\n"
     ]
    }
   ],
   "source": [
    "print(list('abcd'))  # ['a', 'b', 'c', 'd']\n",
    "print(tuple('abcd'))  # ('a', 'b', 'c', 'd')\n",
    "print(set('abcd'))  # {'a', 'b', 'c', 'd'}"
   ],
   "metadata": {
    "collapsed": false,
    "pycharm": {
     "name": "#%%\n"
    }
   }
  },
  {
   "cell_type": "code",
   "execution_count": 5,
   "outputs": [
    {
     "name": "stdout",
     "output_type": "stream",
     "text": [
      "{'b', 'c', 'a', 'd'}\n",
      "['a', 'b', 'c', 'd']\n"
     ]
    }
   ],
   "source": [
    "# remove duplicates\n",
    "a = list('abcddcbaabcd')\n",
    "print(set(a))  # unique, but not original order\n",
    "\n",
    "print(list(dict.fromkeys(a)))  # unique, original order"
   ],
   "metadata": {
    "collapsed": false,
    "pycharm": {
     "name": "#%%\n"
    }
   }
  },
  {
   "cell_type": "markdown",
   "source": [
    "# Section 3.4 Namedtuple and Counter"
   ],
   "metadata": {
    "collapsed": false
   }
  },
  {
   "cell_type": "code",
   "execution_count": 78,
   "outputs": [
    {
     "name": "stdout",
     "output_type": "stream",
     "text": [
      "Envelop(subject='test', from_addr='f', to_addr='t', headers={})\n"
     ]
    }
   ],
   "source": [
    "# collections module\n",
    "from collections import namedtuple\n",
    "\n",
    "Envelop = namedtuple('Envelop', ['subject', 'from_addr', 'to_addr', 'headers'])\n",
    "print(Envelop(subject='test', from_addr='f', to_addr='t', headers={}))\n",
    "# This is useful in interface design to shorten the parameter list"
   ],
   "metadata": {
    "collapsed": false,
    "pycharm": {
     "name": "#%%\n"
    }
   }
  },
  {
   "cell_type": "code",
   "execution_count": 79,
   "outputs": [
    {
     "name": "stdout",
     "output_type": "stream",
     "text": [
      "Counter({'apple': 3, 'orange': 2, 'banana': 1})\n",
      "3\n"
     ]
    }
   ],
   "source": [
    "from collections import Counter\n",
    "bag = Counter() # It's a shopping bag, really.\n",
    "bag.update(['apple', 'apple', 'orange', 'banana', 'apple', 'orange'])\n",
    "print(bag)\n",
    "print(bag['apple'])"
   ],
   "metadata": {
    "collapsed": false,
    "pycharm": {
     "name": "#%%\n"
    }
   }
  },
  {
   "cell_type": "markdown",
   "source": [
    "# Section 3.5 Hashing\n",
    "https://www.asmeurer.com/blog/posts/what-happens-when-you-mess-with-hashing-in-python/\n",
    "\n",
    "http://thepythoncorner.com/dev/hash-tables-understanding-dictionaries/\n",
    "\n",
    "https://www.oreilly.com/library/view/high-performance-python/9781449361747/ch04.html"
   ],
   "metadata": {
    "collapsed": false,
    "pycharm": {
     "name": "#%% md\n"
    }
   }
  },
  {
   "cell_type": "markdown",
   "source": [
    "# Section 3.6 Other Collections\n",
    "\n",
    "- stack: https://realpython.com/how-to-implement-python-stack/\n",
    "- queue: https://stackabuse.com/stacks-and-queues-in-python/\n",
    "- linked list:\n",
    "  - https://realpython.com/linked-lists-python/\n",
    "  - https://dbader.org/blog/python-linked-list\n",
    "- tree:\n",
    "  - https://github.com/mozman/bintrees\n",
    "  - https://pypi.org/project/sortedcontainers/\n",
    "  - https://treelib.readthedocs.io/en/latest/\n",
    "- graphs:\n",
    "  - networkx\n",
    "  - https://www.geeksforgeeks.org/graph-data-structure-and-algorithms/\n",
    "  - https://www.python-course.eu/graphs_python.php\n"
   ],
   "metadata": {
    "collapsed": false,
    "pycharm": {
     "name": "#%% md\n"
    }
   }
  }
 ],
 "metadata": {
  "kernelspec": {
   "display_name": "Python 3",
   "language": "python",
   "name": "python3"
  },
  "language_info": {
   "codemirror_mode": {
    "name": "ipython",
    "version": 2
   },
   "file_extension": ".py",
   "mimetype": "text/x-python",
   "name": "python",
   "nbconvert_exporter": "python",
   "pygments_lexer": "ipython2",
   "version": "2.7.6"
  }
 },
 "nbformat": 4,
 "nbformat_minor": 0
}