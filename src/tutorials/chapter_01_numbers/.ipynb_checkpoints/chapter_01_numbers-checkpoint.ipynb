{
 "cells": [
  {
   "cell_type": "code",
   "execution_count": 2,
   "metadata": {},
   "outputs": [
    {
     "name": "stdout",
     "output_type": "stream",
     "text": [
      "2020\n"
     ]
    }
   ],
   "source": [
    "# #############################################################################\n",
    "# Section 1. Integers\n",
    "# ############################################################################\n",
    "#\n",
    "print(2020)"
   ]
  },
  {
   "cell_type": "code",
   "execution_count": 3,
   "metadata": {
    "pycharm": {
     "name": "#%%\n"
    }
   },
   "outputs": [
    {
     "name": "stdout",
     "output_type": "stream",
     "text": [
      "7\n",
      "1.0\n",
      "2\n",
      "1\n",
      "25\n"
     ]
    }
   ],
   "source": [
    "# arithmetic operations, +, -, *, /, **, ()\n",
    "print(1 + 2 * 3)  # multiplication proceeds addition\n",
    "print((1 + 2) / 3)  # result is a real number(float), not int anymore\n",
    "print(4 // 2)  # this is int division\n",
    "print(5 % 2)  # remainder\n",
    "\n",
    "print(5 ** 2)  # exponential\n"
   ]
  },
  {
   "cell_type": "code",
   "execution_count": 18,
   "metadata": {
    "pycharm": {
     "name": "#%%\n"
    }
   },
   "outputs": [
    {
     "name": "stdout",
     "output_type": "stream",
     "text": [
      "True\n",
      "False\n",
      "False\n"
     ]
    }
   ],
   "source": [
    "# comparison\n",
    "print(2 > 1)\n",
    "print(2 < 1)\n",
    "print(2 == 1)  # Since = is used for assignment, we use == for comparison\n"
   ]
  }
 ],
 "metadata": {
  "kernelspec": {
   "display_name": "Python 3",
   "language": "python",
   "name": "python3"
  },
  "language_info": {
   "codemirror_mode": {
    "name": "ipython",
    "version": 3
   },
   "file_extension": ".py",
   "mimetype": "text/x-python",
   "name": "python",
   "nbconvert_exporter": "python",
   "pygments_lexer": "ipython3",
   "version": "3.8.5"
  }
 },
 "nbformat": 4,
 "nbformat_minor": 1
}
