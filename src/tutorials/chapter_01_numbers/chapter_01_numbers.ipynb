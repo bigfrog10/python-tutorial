{
 "cells": [
  {
   "cell_type": "markdown",
   "metadata": {
    "pycharm": {
     "name": "#%% md\n"
    }
   },
   "source": [
    "# Chapter 1. Numbers\n",
    "\n",
    "Let's start with something we are familiar since high school:\n",
    "\n",
    "![TI-84 Plus](it-84_plus.jpg)\n",
    "\n",
    "It's actually a pretty powerful calculator.\n",
    "\n",
    "Python does a lot more! When we work on calculators, we are in the New York\n",
    "bay area. Python is the Atlantic Ocean. We are heading out.\n",
    "\n",
    "![Atlantic](ny_bay.png)"
   ]
  },
  {
   "cell_type": "markdown",
   "metadata": {},
   "source": [
    "## Section 1.1 Integer"
   ]
  },
  {
   "cell_type": "code",
   "execution_count": 1,
   "metadata": {
    "pycharm": {
     "name": "#%%\n"
    }
   },
   "outputs": [
    {
     "name": "stdout",
     "output_type": "stream",
     "text": [
      "2020\n",
      "-2020\n"
     ]
    }
   ],
   "source": [
    "print(2020)  # print is for output\n",
    "print(-2020)\n",
    "#a = input()  # input is for user input\n",
    "#print(a)"
   ]
  },
  {
   "cell_type": "markdown",
   "metadata": {},
   "source": [
    "Arithmetic operations are +, -, \\*, /, \\**, ()\n",
    "\n",
    "Division is different, as with integers. Playing '/' division could result in\n",
    "non-integer solutions. As a result, '%' is used to find the remainder of a\n",
    "variable and '//' is used for floor division.\n",
    "\n",
    "For exponentiation, '**' is used instead of '^'.\n",
    "\n",
    "Unary operator like '+' or '-' works on single numbers for example,\n",
    "```--3 = 3```."
   ]
  },
  {
   "cell_type": "code",
   "execution_count": 2,
   "metadata": {
    "pycharm": {
     "name": "#%%\n"
    }
   },
   "outputs": [
    {
     "name": "stdout",
     "output_type": "stream",
     "text": [
      "7\n",
      "1.0\n",
      "2\n",
      "1\n",
      "25\n",
      "3\n"
     ]
    }
   ],
   "source": [
    "print(1 + 2 * 3)  # multiplication proceeds addition\n",
    "print((1 + 2) / 3)  # result is a real number(float), not int anymore\n",
    "print(4 // 2)  # this is int division\n",
    "print(5 % 2)  # remainder\n",
    "print(5 ** 2)  # exponential\n",
    "print(--3)"
   ]
  },
  {
   "cell_type": "code",
   "execution_count": 3,
   "metadata": {
    "pycharm": {
     "name": "#%%\n"
    }
   },
   "outputs": [
    {
     "name": "stdout",
     "output_type": "stream",
     "text": [
      "True\n",
      "False\n",
      "False\n",
      "True\n"
     ]
    }
   ],
   "source": [
    "# comparison, totally ordered\n",
    "print(2 > 1)  # leave True, False to later\n",
    "print(2 < 1)\n",
    "print(2 == 1)  # Since = is used for assignment, we use == for comparison\n",
    "print(2 != 1)  # not equal"
   ]
  },
  {
   "cell_type": "code",
   "execution_count": 4,
   "metadata": {
    "pycharm": {
     "name": "#%%\n"
    }
   },
   "outputs": [
    {
     "name": "stdout",
     "output_type": "stream",
     "text": [
      "True\n",
      "True\n",
      "True\n"
     ]
    }
   ],
   "source": [
    "# assign values to variables: reuse same value, no duplicates.\n",
    "# variable name: [_a-zA-Z]+[_0-9a-zA-Z]*\n",
    "# _ and __ are a special variable prefix - scope\n",
    "c = 3\n",
    "a = 3\n",
    "print(a == c)  # value comparison.\n",
    "print(a is c)  # constant 3 is cached - identity comparison\n",
    "print(a is 3)  # True too."
   ]
  },
  {
   "cell_type": "code",
   "execution_count": 5,
   "metadata": {
    "pycharm": {
     "name": "#%%\n"
    }
   },
   "outputs": [
    {
     "name": "stdout",
     "output_type": "stream",
     "text": [
      "1\n",
      "1\n"
     ]
    }
   ],
   "source": [
    "a = b = 1\n",
    "print(a)\n",
    "print(b)\n"
   ]
  },
  {
   "cell_type": "code",
   "execution_count": 6,
   "metadata": {
    "pycharm": {
     "name": "#%%\n"
    }
   },
   "outputs": [
    {
     "name": "stdout",
     "output_type": "stream",
     "text": [
      "1\n",
      "2\n"
     ]
    }
   ],
   "source": [
    "a, b = 1, 2\n",
    "print(a)\n",
    "print(b)\n"
   ]
  },
  {
   "cell_type": "code",
   "execution_count": 7,
   "metadata": {
    "pycharm": {
     "name": "#%%\n"
    }
   },
   "outputs": [
    {
     "name": "stdout",
     "output_type": "stream",
     "text": [
      "2\n",
      "1\n"
     ]
    }
   ],
   "source": [
    "# swap\n",
    "a, b = b, a\n",
    "print(a)\n",
    "print(b)\n"
   ]
  },
  {
   "cell_type": "code",
   "execution_count": 8,
   "metadata": {
    "pycharm": {
     "name": "#%%\n"
    }
   },
   "outputs": [
    {
     "name": "stdout",
     "output_type": "stream",
     "text": [
      "5\n",
      "3\n"
     ]
    }
   ],
   "source": [
    "# hard way - integer swap with temp variables\n",
    "x, y = 3, 5\n",
    "x = x + y  # so now x is sum(x, y)\n",
    "y = x - y  # sum - old y = x, so y has x now\n",
    "x = x - y  # sum - y = sum - old x = old y\n",
    "print(x)\n",
    "print(y)"
   ]
  },
  {
   "cell_type": "markdown",
   "metadata": {
    "pycharm": {
     "name": "#%% md\n"
    }
   },
   "source": [
    "Attaching an equal sign behind the previous operators, for example,\n",
    "```x += 3``` is a more convenient way to write ```x = x + 3```.\n",
    "These are called additional assignment operators. Similar true for\n",
    "-=, *=, and /=."
   ]
  },
  {
   "cell_type": "code",
   "execution_count": 9,
   "metadata": {
    "pycharm": {
     "name": "#%%\n"
    }
   },
   "outputs": [
    {
     "name": "stdout",
     "output_type": "stream",
     "text": [
      "3\n"
     ]
    }
   ],
   "source": [
    "x = 1\n",
    "x += 2\n",
    "print(x)"
   ]
  },
  {
   "cell_type": "code",
   "execution_count": 10,
   "metadata": {
    "pycharm": {
     "name": "#%%\n"
    }
   },
   "outputs": [
    {
     "name": "stdout",
     "output_type": "stream",
     "text": [
      "9223372036854775808\n",
      "10000000000000000000000000000000000000000000000000000000000000000000000000000000000000000000000000000\n"
     ]
    }
   ],
   "source": [
    "# int is unbound, not restricted by hardware limit, 32-bit or 64 bit.\n",
    "print(9223372036854775808)  # 2^63\n",
    "# huge number, if you do this in a calculator, you get overflow.\n",
    "print(10 ** 100)"
   ]
  },
  {
   "cell_type": "markdown",
   "metadata": {},
   "source": [
    "## Section 1.2 Real and Complex Numbers"
   ]
  },
  {
   "cell_type": "code",
   "execution_count": 11,
   "metadata": {
    "pycharm": {
     "name": "#%%\n"
    }
   },
   "outputs": [
    {
     "name": "stdout",
     "output_type": "stream",
     "text": [
      "3.141592653589793\n",
      "2.718281828459045\n"
     ]
    }
   ],
   "source": [
    "print(3.14159265358979323846)  # pi, ignored after 16 digits\n",
    "print(2.71828182845904523536) # e, ignored after 16 digits\n"
   ]
  },
  {
   "cell_type": "code",
   "execution_count": 12,
   "metadata": {
    "pycharm": {
     "name": "#%%\n"
    }
   },
   "outputs": [
    {
     "name": "stdout",
     "output_type": "stream",
     "text": [
      "0.3333333333333333\n",
      "0.6666666666666666\n",
      "1.6666666666666667\n"
     ]
    }
   ],
   "source": [
    "# Real numbers are continuous, there is no gap. Computers have rounding errors.\n",
    "print(1/3)  # keep only 16 significant digits\n",
    "print(2/3)  # the last digit is 6, not 7, seems we truncate not round result.\n",
    "print(5/3)  # this time we round not truncate!"
   ]
  },
  {
   "cell_type": "code",
   "execution_count": 13,
   "metadata": {
    "pycharm": {
     "name": "#%%\n"
    }
   },
   "outputs": [
    {
     "name": "stdout",
     "output_type": "stream",
     "text": [
      "0.1\n",
      "0.2\n",
      "0.30000000000000004\n",
      "0.19999999999999996\n",
      "False\n"
     ]
    }
   ],
   "source": [
    "print(0.1)  # 0.1\n",
    "print(0.2)  # 0.2\n",
    "print(0.1 + 0.2)  # 0.30000000000000004, error at 16th digit\n",
    "print(1.2 - 1.0)  # 0.19999999999999996, seems that ulp = 0.00...004\n",
    "print(0.1 + 0.2 == 0.3)  # False due to roundings"
   ]
  },
  {
   "cell_type": "code",
   "execution_count": 14,
   "metadata": {
    "pycharm": {
     "name": "#%%\n"
    }
   },
   "outputs": [
    {
     "name": "stdout",
     "output_type": "stream",
     "text": [
      "10000.0\n",
      "True\n"
     ]
    }
   ],
   "source": [
    "# check equal\n",
    "d = 10000.0 / 17.0\n",
    "d = d * 17.0\n",
    "print(d)  # 10000.0\n",
    "print(d == 10000)  # True"
   ]
  },
  {
   "cell_type": "code",
   "execution_count": 15,
   "metadata": {
    "pycharm": {
     "name": "#%%\n"
    }
   },
   "outputs": [
    {
     "name": "stdout",
     "output_type": "stream",
     "text": [
      "5.2\n",
      "3\n",
      "2\n",
      "-3\n",
      "-2\n"
     ]
    }
   ],
   "source": [
    "print(2.2 + 3)  # upcasting/type conversion, convert int 3 to float 3 first.\n",
    "\n",
    "# downcasting is tricky\n",
    "print(int(3.14))  # int = floor, toward 0\n",
    "print(int(2.718))\n",
    "print(int(-3.14))\n",
    "print(int(-2.718))"
   ]
  },
  {
   "cell_type": "code",
   "execution_count": 16,
   "metadata": {
    "pycharm": {
     "name": "#%%\n"
    }
   },
   "outputs": [
    {
     "name": "stdout",
     "output_type": "stream",
     "text": [
      "10000000.00000001\n",
      "100000000.0\n"
     ]
    }
   ],
   "source": [
    "# overflow\n",
    "print(10000000 + 0.00000001)  # fine, 10000000.00000001\n",
    "print(100000000 + 0.000000001)  # oh, 100000000.0"
   ]
  },
  {
   "cell_type": "code",
   "execution_count": 17,
   "metadata": {
    "pycharm": {
     "name": "#%%\n"
    }
   },
   "outputs": [
    {
     "name": "stdout",
     "output_type": "stream",
     "text": [
      "2.0\n",
      "2.0\n"
     ]
    }
   ],
   "source": [
    "print(8.0 / 4.0)\n",
    "print(8.0 // 4.0)  # 19.0, ouch! not 20.0. Don't do // with float"
   ]
  },
  {
   "cell_type": "code",
   "execution_count": 18,
   "metadata": {
    "pycharm": {
     "name": "#%%\n"
    }
   },
   "outputs": [
    {
     "name": "stdout",
     "output_type": "stream",
     "text": [
      "(1+2j)\n",
      "(-0.9999999999886389+4.766788845527222e-06j)\n"
     ]
    }
   ],
   "source": [
    "# complex numbers\n",
    "print(1.0 + 2.0j)  # Python uses j instead of i in complex numbers\n",
    "# all arithmetic operations apply, to float <op> complex as well\n",
    "print(2.71828 ** 3.14159j)  # Euler's identity, e ^ (i * pi) = -1\n",
    "\n",
    "# complex is not ordered, so we can't compare 2 complex numbers.\n"
   ]
  },
  {
   "cell_type": "markdown",
   "metadata": {},
   "source": [
    "## Section 1.3 Bit World"
   ]
  },
  {
   "cell_type": "markdown",
   "metadata": {},
   "source": [
    "In the computing history, the first question is how we represent numbers:\n",
    "- https://www.thoughtco.com/history-of-calculators-1991652\n",
    "- https://en.wikipedia.org/wiki/Mechanical_calculator\n",
    "- https://en.wikipedia.org/wiki/Abacus\n",
    "- https://web.csulb.edu/~cwallis/labs/computability/index.html\n",
    "\n",
    "Human used various bases in history, e.g., base-5, base-8, base-10.\n",
    "\n",
    "Various calculators in history used base-10 as well.\n",
    "\n",
    "While all bases are equivalent (we can convert one base number to another),\n",
    "the base with least number of digits is base-2, only 0 and 1.\n",
    "\n",
    "Modern computers use base-2 numbers. This is because we can manipulate\n",
    "electronic waves to manage 2 states.\n",
    "- https://en.wikipedia.org/wiki/Digital_signal\n",
    "- https://www.electronics-tutorials.ws/binary/bin_1.html\n",
    "\n",
    "Quantum computing has a new way to represent bits, qubits. Ignoring its\n",
    "complexity, it's another way to represent bits. The new way can carry\n",
    "operations on these bits much fast than the current electronic way.\n",
    "- https://en.wikipedia.org/wiki/Qubit\n",
    "- https://computer.howstuffworks.com/quantum-computer.htm\n",
    "\n",
    "As long as we can represent 2 states in some world, we can manipulate numbers\n",
    "in that world. So computer world is the bit world, however bits are\n",
    "implemented.\n",
    "\n",
    "A byte is defined as 8 bits. This is the more common unit for bits.\n",
    "\n",
    "Computer hardware went through 8-bit architecture,\n",
    "then 16 bits, then 32 bits, and now we have 64 bits. 64 bits is enough for most\n",
    "of our lives, except certain science and a few other cases.\n",
    "\n",
    "So we align with bytes, though there were cases like 12-bit computers."
   ]
  },
  {
   "cell_type": "markdown",
   "metadata": {},
   "source": [
    "## Section 1.4 Integer Representation\n",
    "\n",
    "Now we need to map bits to integers. There are many ways in history to do so,\n",
    "see\n",
    "\n",
    "https://www3.ntu.edu.sg/home/ehchua/programming/java/datarepresentation.html\n",
    "\n",
    "for details.\n",
    "\n",
    "The current way is 2's complement because of various consideration, such as:\n",
    "- It's easier to implement addition, subtraction, and multiplication.\n",
    "- Hardware implementation is simpler too, using fewer components/gates.\n",
    "\n",
    "More references on 2's complement:\n",
    "- https://www.cs.cornell.edu/~tomf/notes/cps104/twoscomp.html\n",
    "- https://en.wikipedia.org/wiki/Two%27s_complement\n",
    "\n",
    "Computers nowadays have 64 bits. So the range of numbers 2's compliment\n",
    "can represent is limited, 2^63 - 1 to - 2^63. However, Python extends\n",
    "integers to arbitrary precision (bounded by hardware memory)\n",
    "\n",
    "- https://rushter.com/blog/python-integer-implementation/\n",
    "- https://stackoverflow.com/questions/61493053/how-come-python-3-has-no-size-limit-on-numbers-when-all-other-languages-do\n",
    "- https://en.wikipedia.org/wiki/Arbitrary-precision_arithmetic\n",
    "- https://en.wikipedia.org/wiki/List_of_C%2B%2B_multiple_precision_arithmetic_libraries\n",
    "\n",
    "The extra work for arbitrary precision poses a bit slowdown in performance.\n",
    "\n",
    "In contrast, C, Java and other languages don't have this extra, and they are\n",
    "bounded to hardware architecture/OS. So they are a bit faster. They use\n",
    "separate classes to deal with this limit, with slower performance,\n",
    "such as BigInteger/etc.\n",
    "\n",
    "The main reason we care about the number limits is to prevent errors,\n",
    "overflow and underflow, when performing arithmetic operations. Since int is\n",
    "unbound, we don't have these issues. On the other hand, float is bounded and\n",
    "has overflow and underflow that we have to deal with. So int is a perfect\n",
    "world, with the price of a bit slowdown."
   ]
  },
  {
   "cell_type": "code",
   "execution_count": 19,
   "metadata": {
    "pycharm": {
     "name": "#%%\n"
    }
   },
   "outputs": [
    {
     "name": "stdout",
     "output_type": "stream",
     "text": [
      "1\n",
      "7\n",
      "-4\n",
      "-0b100\n",
      "6\n",
      "2\n",
      "10\n"
     ]
    }
   ],
   "source": [
    "# bit operations, &, |, ~, ^, >>, <<\n",
    "print(3 & 5)  # 1, 101 & 011\n",
    "print(3 | 5)  # 7\n",
    "print(~3)     # -4\n",
    "print(bin(~3))  # binary\n",
    "print(3 ^ 5)  # 6 = b'110', 1 if exactly one operand is 1 else 0\n",
    "print(5 >> 1)  # 2, 101 shifts to right -> 010, remove right most 1 from left\n",
    "print(5 << 1)  # 10, 101 shifts to left -> 1010, append 0 from right\n"
   ]
  },
  {
   "cell_type": "code",
   "execution_count": 20,
   "metadata": {
    "pycharm": {
     "name": "#%%\n"
    }
   },
   "outputs": [
    {
     "name": "stdout",
     "output_type": "stream",
     "text": [
      "0b101\n",
      "0o5\n",
      "0x5\n"
     ]
    }
   ],
   "source": [
    "print(bin(5))\n",
    "print(oct(5))\n",
    "print(hex(5))"
   ]
  },
  {
   "cell_type": "code",
   "execution_count": 21,
   "metadata": {
    "pycharm": {
     "name": "#%%\n"
    }
   },
   "outputs": [
    {
     "name": "stdout",
     "output_type": "stream",
     "text": [
      "2\n",
      "0000011110\n",
      "030.000000\n",
      "8\n",
      "10\n",
      "0b100111010\n"
     ]
    }
   ],
   "source": [
    "# We have base 2, base 8, and base 16 integers\n",
    "print(0b10)  # binary number\n",
    "print(\"{0:010b}\".format(0b011110))\n",
    "print(\"{0:010f}\".format(0b011110))\n",
    "print(0o10)  # octal number\n",
    "print(0xA)  # hex number\n",
    "print(bin(314))  # convert it to binary\n",
    "# so print(01) is not working.\n"
   ]
  },
  {
   "cell_type": "code",
   "execution_count": 22,
   "metadata": {
    "pycharm": {
     "name": "#%%\n"
    }
   },
   "outputs": [
    {
     "name": "stdout",
     "output_type": "stream",
     "text": [
      "5\n",
      "3\n"
     ]
    }
   ],
   "source": [
    "x, y = 3, 5\n",
    "x = x ^ y  # XOR\n",
    "y = y ^ x\n",
    "x = x ^ y\n",
    "print(x)\n",
    "print(y)"
   ]
  },
  {
   "cell_type": "markdown",
   "metadata": {
    "pycharm": {
     "name": "#%% md\n"
    }
   },
   "source": [
    "## Section 1.4 Real Number Representation\n",
    "\n",
    "Python, and many other languages use IEEE 754 standard to represent real\n",
    "numbers for 64-bit computers (2-based scientific notation)\n",
    "\n",
    "![IEEE_754](ieee_754_64_bits.png)\n",
    "\n",
    "(from https://en.wikipedia.org/wiki/Double-precision_floating-point_format)\n",
    "\n",
    "(mantissa is also called significand) This is equivalent to 16 digits in\n",
    "base-10.\n",
    "- https://en.wikipedia.org/wiki/IEEE_754\n",
    "- https://www.doc.ic.ac.uk/~eedwards/compsys/float/\n",
    "- https://docs.python.org/3.0/tutorial/floatingpoint.html\n",
    "- https://en.wikipedia.org/wiki/Floating-point_arithmetic\n",
    "- https://www3.ntu.edu.sg/home/ehchua/programming/java/datarepresentation.html\n",
    "\n",
    "The period floats because of the exponent since we want to keep mantissa\n",
    "within 1 <= m < 10, such as 3.14, 31.4 = 3.14 X 10 = 3.925 X 8. This is\n",
    "why we call this representation as floating-point.\n",
    "\n",
    "https://chortle.ccsu.edu/AssemblyTutorial/Chapter-30/ass30_2.html\n",
    "\n",
    "So I guess we should restore the name back to \"real\", since float-point is just\n",
    "a way to represent real numbers. We use int above and complex below, so float\n",
    "in the middle is kind of odd.\n",
    "\n",
    "We use fixed point in abacus.\n",
    "\n",
    "If 1 <= m < 10, we call it normalized. If it's < 1, we call it subnormal\n",
    "(Before IEEE-754-2008, this is called denormalized). This indicates we have\n",
    "an underflow. https://en.wikipedia.org/wiki/Denormal_number\n",
    "\n",
    "Due to hardware restriction, we have only finite numbers of bits. So\n",
    "binary representation is discrete. However, real number is continuous.\n",
    "So there are \"gaps\" in the binary representation. Some real numbers\n",
    "can't be represented by binaries exactly, and they are approximated by\n",
    "nearby binaries. The difference is called rounding error.\n",
    "\n",
    "https://stackoverflow.com/questions/38588815/rounding-errors-in-python-floor-division\n",
    "\n",
    "An observation is when exponent is 0, the mantissa's gaps are the smallest.\n",
    "When the exponent gets larger, the gaps are getting larger too. The numbers\n",
    "in a gap will be rounded to the boundary as representation.\n",
    "\n",
    "display value != machine true value != true value\n",
    "\n",
    "When we carry arithmetic operations (+, -, *, /) on the representations of\n",
    "numbers, we need to make sure the representation errors stay bounded with\n",
    "representation error of the real result. IEEE 754 standard requires this and\n",
    "more.\n",
    "\n",
    "- https://matthew-brett.github.io/teaching/floating_error.html\n",
    "- https://docs.oracle.com/cd/E19957-01/806-3568/ncg_goldberg.html\n",
    "- https://www.unioviedo.es/compnum/labs/PYTHON/Finite_arithmetic.html\n",
    "- https://www.juliensobczak.com/inspect/2019/03/10/floating-point-numbers-demystified.html\n",
    "- https://www.soa.org/news-and-publications/newsletters/compact/2014/may/com-2014-iss51/losing-my-precision-tips-for-handling-tricky-floating-point-arithmetic/\n",
    "\n",
    "We have to be careful about the error propagation when performing arithmetic\n",
    "operations. Subtracting or dividing 2 close numbers could lose precision.\n",
    "In these cases, we either transform the calculations or increase precision.\n",
    "\n",
    "This is why a lot of special functions used in practice need to be carefully\n",
    "crafted. One of the best site is:\n",
    "\n",
    "- https://keisan.casio.com/menu/system/000000000760\n",
    "\n",
    "Another site is\n",
    "- http://evanw.github.io/float-toy/"
   ]
  },
  {
   "cell_type": "code",
   "execution_count": 23,
   "metadata": {
    "pycharm": {
     "name": "#%%\n"
    }
   },
   "outputs": [
    {
     "name": "stdout",
     "output_type": "stream",
     "text": [
      "(0.9645, 7)\n",
      "123.456\n",
      "(inf, 0)\n",
      "(inf, 0)\n",
      "(nan, 0)\n",
      "(nan, 0)\n",
      "8.98846567431158e+307\n"
     ]
    },
    {
     "name": "stderr",
     "output_type": "stream",
     "text": [
      "Traceback (most recent call last):\n",
      "  File \"<ipython-input-23-d4bf9c3c9585>\", line 15, in <module>\n",
      "    print(math.ldexp(1, 1024))  # overflow\n",
      "OverflowError: math range error\n"
     ]
    }
   ],
   "source": [
    "# modules are reusable code. Every language has some built-in modules and\n",
    "# 3rd party extended modules. The standard libraries, or built-in modules, are\n",
    "# in here: https://docs.python.org/3/library/.\n",
    "import math\n",
    "print(math.frexp(123.456))  # (0.9645, 7) -> (m, e) such that x = m * 2 ** e\n",
    "print(math.ldexp(0.9645, 7))  # back to 123.456\n",
    "\n",
    "print(math.frexp(math.inf))  # (inf, 0), not the same as (1024, 0)\n",
    "print(math.frexp(float('inf')))\n",
    "print(math.frexp(float('nan')))\n",
    "print(math.frexp(math.nan))\n",
    "\n",
    "print(math.ldexp(1, 1023))\n",
    "try:\n",
    "    print(math.ldexp(1, 1024))  # overflow\n",
    "except:\n",
    "    import traceback\n",
    "    traceback.print_exc()"
   ]
  },
  {
   "cell_type": "code",
   "execution_count": 24,
   "metadata": {
    "pycharm": {
     "name": "#%%\n"
    }
   },
   "outputs": [
    {
     "name": "stdout",
     "output_type": "stream",
     "text": [
      "('64bit', '')\n",
      "sys.float_info(max=1.7976931348623157e+308, max_exp=1024, max_10_exp=308, min=2.2250738585072014e-308, min_exp=-1021, min_10_exp=-307, dig=15, mant_dig=53, epsilon=2.220446049250313e-16, radix=2, rounds=1)\n"
     ]
    }
   ],
   "source": [
    "# hardware information, check 32 bit or 64 bit\n",
    "import platform\n",
    "print(platform.architecture())  # 64 bit\n",
    "\n",
    "# to check float max/min/machine precision/epsilon\n",
    "import sys\n",
    "print(sys.float_info)\n",
    "\n",
    "# Python 3.9 has a new function in math that can tell the gap of numbers.\n",
    "# Note that the gap is getting larger as the number is larger.\n",
    "# math.ulp(x) and math.nextafter(x, x+1)"
   ]
  },
  {
   "cell_type": "code",
   "execution_count": 25,
   "metadata": {
    "pycharm": {
     "name": "#%%\n"
    }
   },
   "outputs": [
    {
     "name": "stdout",
     "output_type": "stream",
     "text": [
      "0100000000001001000111101011100001010001111010111000010100011111\n",
      "3.14\n"
     ]
    }
   ],
   "source": [
    "# https://stackoverflow.com/questions/16444726/binary-representation-of-float-in-python-bits-not-hex\n",
    "import struct\n",
    "\n",
    "\n",
    "def float2bins(fn):\n",
    "    [dn] = struct.unpack(\">Q\", struct.pack(\">d\", fn))\n",
    "    return f'{dn:064b}'\n",
    "\n",
    "\n",
    "def bins2float(bn):\n",
    "    h = int(bn, 2).to_bytes(8, byteorder=\"big\")\n",
    "    return struct.unpack('>d', h)[0]\n",
    "\n",
    "\n",
    "print(float2bins(3.14))\n",
    "print(bins2float('0100000000001001000111101011100001010001111010111000010100011111'))\n",
    "\n",
    "# special values and ranges:\n",
    "#  NaN: 0111111111111000000000000000000000000000000000000000000000000000\n",
    "# -Inf: 1111111111110000000000000000000000000000000000000000000000000000\n",
    "# +Inf: 0111111111110000000000000000000000000000000000000000000000000000\n",
    "# -Max: 1111111111101111111111111111111111111111111111111111111111111111\n",
    "# +Max: 0111111111101111111111111111111111111111111111111111111111111111\n",
    "\n",
    "# https://www.ardanlabs.com/blog/2013/08/gustavos-ieee-754-brain-teaser.html\n",
    "# arithmetic operation errors"
   ]
  },
  {
   "cell_type": "markdown",
   "metadata": {
    "pycharm": {
     "name": "#%% md\n"
    }
   },
   "source": [
    "## Section 1.5 Data Types\n",
    "\n",
    "In order to interpret a bit array, we need a hint - data type. In Python, the\n",
    "basic number types are: int, float, complex.\n",
    "\n",
    "There are other built-in types, such as bool, string. We may create our own\n",
    "data types as well."
   ]
  },
  {
   "cell_type": "code",
   "execution_count": 26,
   "metadata": {
    "pycharm": {
     "name": "#%%\n"
    }
   },
   "outputs": [
    {
     "name": "stdout",
     "output_type": "stream",
     "text": [
      "<class 'int'>\n",
      "True\n",
      "<class 'float'>\n",
      "<class 'complex'>\n"
     ]
    }
   ],
   "source": [
    "print(type(7))  # <class 'int'>\n",
    "print(isinstance(7, int))  # True\n",
    "\n",
    "print(type(3.1415925))  # <class 'float'>\n",
    "print(type(1.0 + 2.0j))  # <class 'complex'>"
   ]
  },
  {
   "cell_type": "markdown",
   "metadata": {
    "pycharm": {
     "name": "#%% md\n"
    }
   },
   "source": [
    "## Section 1.6 Other Number Types\n"
   ]
  },
  {
   "cell_type": "code",
   "execution_count": 27,
   "metadata": {
    "pycharm": {
     "name": "#%%\n"
    }
   },
   "outputs": [
    {
     "name": "stdout",
     "output_type": "stream",
     "text": [
      "Context(prec=28, rounding=ROUND_HALF_EVEN, Emin=-999999, Emax=999999, capitals=1, clamp=0, flags=[], traps=[InvalidOperation, DivisionByZero, Overflow])\n",
      "0.1428571428571428571428571429\n",
      "0.1428571428571429\n",
      "12345678901234567890.1234567890\n",
      "0.4285714285714286\n",
      "0.428571428571428571428571428571428571428571428571428571428571\n"
     ]
    }
   ],
   "source": [
    "# To deal with arbitrary precision: https://docs.python.org/3/library/decimal.html\n",
    "import decimal\n",
    "print(decimal.getcontext())\n",
    "print(1 / decimal.Decimal(7))  # default precision is 28 digit: 0.1428571428571428571428571429\n",
    "decimal.getcontext().prec = 16  # set precision to 16\n",
    "print(1 / decimal.Decimal(7))  # 0.1428571428571429\n",
    "\n",
    "from decimal import Decimal\n",
    "print(Decimal('12345678901234567890.1234567890'))\n",
    "print(Decimal(3) / Decimal(7))\n",
    "decimal.getcontext().prec = 60\n",
    "print(Decimal(3) / Decimal(7))\n"
   ]
  },
  {
   "cell_type": "code",
   "execution_count": 28,
   "metadata": {
    "pycharm": {
     "name": "#%%\n"
    }
   },
   "outputs": [
    {
     "name": "stdout",
     "output_type": "stream",
     "text": [
      "7074029114692207/2251799813685248\n",
      "355/113\n",
      "5/6\n",
      "(3152519739159347, 9007199254740992)\n"
     ]
    }
   ],
   "source": [
    "# Rational numbers\n",
    "import fractions\n",
    "print(fractions.Fraction(3.1415))\n",
    "print(fractions.Fraction(355, 113))\n",
    "print(fractions.Fraction(1, 2) + fractions.Fraction(1, 3))\n",
    "print(0.35.as_integer_ratio())"
   ]
  },
  {
   "cell_type": "code",
   "execution_count": 29,
   "metadata": {
    "pycharm": {
     "name": "#%%\n"
    }
   },
   "outputs": [
    {
     "name": "stdout",
     "output_type": "stream",
     "text": [
      "3.141592653589793\n",
      "2.23606797749979\n",
      "0.0015926529164868282\n",
      "1.0413926851582251\n",
      "120\n",
      "4\n",
      "2\n"
     ]
    }
   ],
   "source": [
    "# math functions\n",
    "print(math.pi)\n",
    "print(math.sqrt(5))\n",
    "print(math.sin(3.14))  # near zero\n",
    "print(math.log10(11))\n",
    "print(math.factorial(5))\n",
    "print(math.ceil(3.14))  # 4\n",
    "print(math.floor(2.718))  # 2"
   ]
  },
  {
   "cell_type": "code",
   "execution_count": 30,
   "outputs": [
    {
     "name": "stdout",
     "output_type": "stream",
     "text": [
      "(2+2j)\n",
      "(2.23606797749979, 1.1071487177940904)\n"
     ]
    }
   ],
   "source": [
    "# cmath module is for complex numbers\n",
    "\n",
    "# converting x and y into complex number\n",
    "z = complex(1.0, 2.0)\n",
    "print(z + 1)  # operates on different types(complex + float)\n",
    "\n",
    "import cmath\n",
    "w = cmath.polar(z)\n",
    "print(w)\n"
   ],
   "metadata": {
    "collapsed": false,
    "pycharm": {
     "name": "#%%\n"
    }
   }
  }
 ],
 "metadata": {
  "kernelspec": {
   "display_name": "Python 3",
   "language": "python",
   "name": "python3"
  },
  "language_info": {
   "codemirror_mode": {
    "name": "ipython",
    "version": 3
   },
   "file_extension": ".py",
   "mimetype": "text/x-python",
   "name": "python",
   "nbconvert_exporter": "python",
   "pygments_lexer": "ipython3",
   "version": "3.7.7"
  }
 },
 "nbformat": 4,
 "nbformat_minor": 1
}