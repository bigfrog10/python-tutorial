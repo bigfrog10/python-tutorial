{
 "cells": [
  {
   "cell_type": "markdown",
   "source": [
    "# Chapter 4. Flow Controls\n"
   ],
   "metadata": {
    "collapsed": false
   }
  },
  {
   "cell_type": "markdown",
   "source": [
    "## Section 4.1 Booleans\n",
    "\n",
    "There are 2 boolean values, True and False. Boolean expressions are used as\n",
    "conditions or filters."
   ],
   "metadata": {
    "collapsed": false
   }
  },
  {
   "cell_type": "code",
   "execution_count": 2,
   "metadata": {
    "collapsed": true
   },
   "outputs": [
    {
     "name": "stdout",
     "output_type": "stream",
     "text": [
      "False\n",
      "True\n",
      "True\n",
      "False\n",
      "False\n",
      "True\n",
      "False\n",
      "False\n",
      "True\n",
      "2\n",
      "False\n",
      "0\n",
      "1\n",
      "0\n",
      "<class 'int'>\n",
      "1\n",
      "0\n",
      "1\n",
      "1\n",
      "2\n",
      "3\n",
      "5\n",
      "8\n",
      "banana\n",
      "orange\n",
      "0\n",
      "1\n"
     ]
    }
   ],
   "source": [
    "# comparison\n",
    "print(5 > 3)\n",
    "\n",
    "c = [1, 2, 3]\n",
    "print(1 in c)\n",
    "print(4 in c)\n",
    "\n",
    "a = 5 == 3\n",
    "b = 6 < 4\n",
    "print(a)\n",
    "print(not a)\n",
    "print(a and b)\n",
    "print(a or b)"
   ]
  },
  {
   "cell_type": "code",
   "execution_count": 6,
   "outputs": [
    {
     "name": "stdout",
     "output_type": "stream",
     "text": [
      "<class 'bool'>\n",
      "<class 'bool'>\n",
      "1\n",
      "0\n",
      "False\n",
      "True\n",
      "True\n",
      "True\n",
      "False\n",
      "True\n",
      "2\n",
      "False\n",
      "0\n",
      "1\n",
      "0\n",
      "False\n",
      "True\n",
      "2\n",
      "False\n",
      "0\n",
      "1\n",
      "0\n",
      "<class 'int'>\n",
      "1\n",
      "0\n",
      "1\n",
      "1\n",
      "2\n",
      "3\n",
      "5\n",
      "8\n",
      "banana\n",
      "orange\n",
      "0\n",
      "1\n"
     ]
    }
   ],
   "source": [
    "print(type(True))  # bool\n",
    "print(type(False))\n",
    "\n",
    "# bool is a subtype of int, 1 and 0\n",
    "print(int(True))  # 1\n",
    "print(int(False))  # 0"
   ],
   "metadata": {
    "collapsed": false,
    "pycharm": {
     "name": "#%%\n"
    }
   }
  },
  {
   "cell_type": "code",
   "execution_count": null,
   "outputs": [],
   "source": [
    "print(bool(0))  # False\n",
    "print(bool(1))  # True\n",
    "print(bool(2))  # True\n",
    "print(bool('OK'))  # True\n",
    "print(bool(''))  # False"
   ],
   "metadata": {
    "collapsed": false,
    "pycharm": {
     "name": "#%%\n"
    }
   }
  },
  {
   "cell_type": "code",
   "execution_count": null,
   "outputs": [],
   "source": [
    "print(True)\n",
    "print(False)\n",
    "print(True + True)  # 2, so True is 1\n",
    "print(False + False)  # 0 so False is 0\n",
    "print(True + False)  # 1\n",
    "print(True * False)  # 0\n",
    "\n",
    "# any and all\n",
    "\n",
    "# Boolear Algebra\n",
    "# see python files here."
   ],
   "metadata": {
    "collapsed": false,
    "pycharm": {
     "name": "#%%\n"
    }
   }
  },
  {
   "cell_type": "markdown",
   "source": [
    "## Section 4.2 If Branches"
   ],
   "metadata": {
    "collapsed": false
   }
  },
  {
   "cell_type": "code",
   "execution_count": null,
   "outputs": [],
   "source": [
    "n = 20\n",
    "if n % 2 == 0:\n",
    "    print(f'{n} is even.')\n",
    "else:\n",
    "    print(f'{n} is odd.')\n",
    "# if, if-else, if-elif-else\n",
    "pass\n",
    "# embedded control, no more than 3\n",
    "# no else means else\n",
    "# if 4 < a < 10\n",
    "\n",
    "# no more than 3"
   ],
   "metadata": {
    "collapsed": false,
    "pycharm": {
     "name": "#%%\n"
    }
   }
  },
  {
   "cell_type": "markdown",
   "source": [
    "## Section 4.3 While Loops"
   ],
   "metadata": {
    "collapsed": false
   }
  },
  {
   "cell_type": "code",
   "execution_count": null,
   "outputs": [],
   "source": [
    "# fibonacci sequence\n",
    "a, b = 0, 1\n",
    "while a < 10:\n",
    "    print(a)\n",
    "    a, b = b, a+b\n",
    "\n",
    "# multi for loops"
   ],
   "metadata": {
    "collapsed": false,
    "pycharm": {
     "name": "#%%\n"
    }
   }
  },
  {
   "cell_type": "markdown",
   "source": [
    "## Section 4.4 For Loops"
   ],
   "metadata": {
    "collapsed": false
   }
  },
  {
   "cell_type": "code",
   "execution_count": null,
   "outputs": [],
   "source": [
    "##\n",
    "r = []\n",
    "for i in range(1, 10, 2):  # loop 1 3 5 7 9\n",
    "    r.append(i)\n",
    "print(r)\n",
    "\n",
    "r = []\n",
    "for i in range(10):  # loop 0 ... 9\n",
    "    r.append(i)\n",
    "print(r)\n",
    "\n",
    "r = []\n",
    "for i in range(1, 10):  # loop 1 ... 9\n",
    "    r.append(i)\n",
    "print(r)"
   ],
   "metadata": {
    "collapsed": false,
    "pycharm": {
     "name": "#%%\n"
    }
   }
  },
  {
   "cell_type": "code",
   "execution_count": 6,
   "outputs": [
    {
     "name": "stdout",
     "output_type": "stream",
     "text": [
      "year: 2020 month: January\n",
      "year: 2020 month: February\n",
      "year: 2020 month: March\n",
      "year: 2020 month: April\n",
      "year: 2020 month: May\n",
      "year: 2020 month: June\n",
      "year: 2020 month: July\n",
      "year: 2020 month: August\n",
      "year: 2020 month: September\n",
      "year: 2020 month: October\n",
      "year: 2020 month: November\n",
      "year: 2020 month: December\n",
      "year: 2021 month: January\n",
      "year: 2021 month: February\n",
      "year: 2021 month: March\n",
      "year: 2021 month: April\n",
      "year: 2021 month: May\n",
      "year: 2021 month: June\n",
      "year: 2021 month: July\n",
      "year: 2021 month: August\n",
      "year: 2021 month: September\n",
      "year: 2021 month: October\n",
      "year: 2021 month: November\n",
      "year: 2021 month: December\n"
     ]
    }
   ],
   "source": [
    "import calendar\n",
    "\n",
    "for y in [2020, 2021]:\n",
    "    for m in calendar.month_name[1:]:\n",
    "        print(f'year: {y} month: {m}')"
   ],
   "metadata": {
    "collapsed": false,
    "pycharm": {
     "name": "#%%\n"
    }
   }
  },
  {
   "cell_type": "code",
   "execution_count": 5,
   "outputs": [
    {
     "name": "stdout",
     "output_type": "stream",
     "text": [
      "year: 2020 month: January\n",
      "year: 2020 month: February\n",
      "year: 2020 month: March\n",
      "year: 2020 month: April\n",
      "year: 2020 month: May\n",
      "year: 2020 month: June\n",
      "year: 2020 month: July\n",
      "year: 2020 month: August\n",
      "year: 2020 month: September\n",
      "year: 2020 month: October\n",
      "year: 2020 month: November\n",
      "year: 2020 month: December\n",
      "year: 2021 month: January\n",
      "year: 2021 month: February\n",
      "year: 2021 month: March\n",
      "year: 2021 month: April\n",
      "year: 2021 month: May\n",
      "year: 2021 month: June\n",
      "year: 2021 month: July\n",
      "year: 2021 month: August\n",
      "year: 2021 month: September\n",
      "year: 2021 month: October\n",
      "year: 2021 month: November\n",
      "year: 2021 month: December\n"
     ]
    }
   ],
   "source": [
    "# flatten the for loops\n",
    "import itertools\n",
    "\n",
    "for y, m in itertools.product([2020, 2021], calendar.month_name[1:]):\n",
    "    print(f'year: {y} month: {m}')"
   ],
   "metadata": {
    "collapsed": false,
    "pycharm": {
     "name": "#%%\n"
    }
   }
  },
  {
   "cell_type": "code",
   "execution_count": null,
   "outputs": [],
   "source": [
    "# break, continue, pass\n",
    "fruits = {'apple', 'orange', 'banana'}\n",
    "for f in fruits:\n",
    "    if f == 'apple':\n",
    "        continue\n",
    "    print(f)\n",
    "\n",
    "for i in range(10):\n",
    "    if i == 2:\n",
    "        break\n",
    "    else:\n",
    "        print(i)"
   ],
   "metadata": {
    "collapsed": false,
    "pycharm": {
     "name": "#%%\n"
    }
   }
  },
  {
   "cell_type": "code",
   "execution_count": null,
   "outputs": [],
   "source": [
    "for index, value in enumerate(c):  # both position index and value\n",
    "    print(f'index={index}, value={value}')\n",
    "\n",
    "for index, value in zip(range(len(c)), c):\n",
    "    print(f'index={index}, value={value}')"
   ],
   "metadata": {
    "collapsed": false,
    "pycharm": {
     "name": "#%%\n"
    }
   }
  },
  {
   "cell_type": "markdown",
   "source": [
    "## Section 4.5 List Comprehensions and Generators"
   ],
   "metadata": {
    "collapsed": false
   }
  },
  {
   "cell_type": "code",
   "execution_count": null,
   "outputs": [],
   "source": [
    "r = [1, 3, 5, 7, 9]\n",
    "print([x for x in r if x != 5])  # remove all 5's\n",
    "for item in r:\n",
    "    print(item)\n",
    "\n",
    "# list comprehension\n",
    "a = [1, 2, 3, 4, 5, 6, 7, 8, 9, 10]\n",
    "d = [x**2 for x in a if x % 2 == 0]  # filter\n",
    "print(d)\n",
    "\n",
    "a = [i if i % 2 == 0 else -i for i in range(1, 10)]\n",
    "print(a)\n",
    "\n",
    "print([x for x in range(9, 0, -1)])  # full permutations\n",
    "\n",
    "print([m + n for m in 'ABCD' for n in '1234'])\n",
    "\n",
    "\n",
    "fruits = ['Apple', 'Banana', 'Orange']\n",
    "print({k+1: v[:3] for (k, v) in zip(range(len(fruits)), fruits)})  # dict comprehension\n",
    "\n",
    "for key, value in fruits.items():\n",
    "    print(f'key={key}, value={value}')\n",
    "    print(key, value)  # print multi values"
   ],
   "metadata": {
    "collapsed": false,
    "pycharm": {
     "name": "#%%\n"
    }
   }
  }
 ],
 "metadata": {
  "kernelspec": {
   "display_name": "Python 3",
   "language": "python",
   "name": "python3"
  },
  "language_info": {
   "codemirror_mode": {
    "name": "ipython",
    "version": 2
   },
   "file_extension": ".py",
   "mimetype": "text/x-python",
   "name": "python",
   "nbconvert_exporter": "python",
   "pygments_lexer": "ipython2",
   "version": "2.7.6"
  }
 },
 "nbformat": 4,
 "nbformat_minor": 0
}