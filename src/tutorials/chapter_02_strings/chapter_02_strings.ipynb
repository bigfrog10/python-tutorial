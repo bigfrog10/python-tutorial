{
 "cells": [
  {
   "cell_type": "markdown",
   "metadata": {
    "collapsed": true,
    "pycharm": {
     "name": "#%% md\n"
    }
   },
   "source": [
    "# Chapter 2. Strings\n",
    "String is an array of characters. Each character is encoded as an array of\n",
    "bits.\n",
    "\n",
    "Given an array of bits, data type indicator tells us these bits are numbers,\n",
    "string, or others."
   ]
  },
  {
   "cell_type": "markdown",
   "metadata": {
    "pycharm": {
     "name": "#%% md\n"
    }
   },
   "source": [
    "## Section 2.1 String Basics\n",
    "\n",
    "There are many ways to specify string literals."
   ]
  },
  {
   "cell_type": "code",
   "execution_count": 1,
   "metadata": {
    "pycharm": {
     "name": "#%%\n"
    }
   },
   "outputs": [
    {
     "name": "stdout",
     "output_type": "stream",
     "text": [
      "hello, world\n",
      "hello, world\n",
      "hello\n",
      "world\n",
      "\n",
      "hello\n",
      "world\n",
      "\n"
     ]
    }
   ],
   "source": [
    "print('hello, world')  # single quote\n",
    "print(\"hello, world\")  # double quote\n",
    "print('''hello\n",
    "world\n",
    "''')  # 3 single quotes, as is. In this case, 3 lines.\n",
    "print(\"\"\"hello\n",
    "world\n",
    "\"\"\")  # 3 double quotes."
   ]
  },
  {
   "cell_type": "code",
   "execution_count": 2,
   "metadata": {
    "pycharm": {
     "name": "#%%\n"
    }
   },
   "outputs": [
    {
     "name": "stdout",
     "output_type": "stream",
     "text": [
      "hello,\tworld!\n",
      "End\\\n",
      "hello, \"O'Brian\"\n",
      "hello, O'Brian\n",
      "Raw data \\t\n"
     ]
    }
   ],
   "source": [
    "# invisible and escape characters\n",
    "print('hello,\\tworld!\\nEnd\\\\')  # tab, new line, and backslash\n",
    "print('hello, \"O\\'Brian\"')  # ' inside\n",
    "print(\"hello, O'Brian\")  # a simpler way\n",
    "\n",
    "print(r'Raw data \\t')  # raw string, no tab"
   ]
  },
  {
   "cell_type": "code",
   "execution_count": 3,
   "metadata": {
    "pycharm": {
     "name": "#%%\n"
    }
   },
   "outputs": [
    {
     "name": "stdout",
     "output_type": "stream",
     "text": [
      "hello world\n",
      "--------------------------------------------------------------------------------\n"
     ]
    }
   ],
   "source": [
    "# operators\n",
    "print('hello ' + 'world')\n",
    "print('-' * 80)\n"
   ]
  },
  {
   "cell_type": "markdown",
   "metadata": {
    "pycharm": {
     "name": "#%% md\n"
    }
   },
   "source": [
    "A string is an array of characters. Characters are defined in character tables.\n",
    "The most basic character table is ascii table (https://en.wikipedia.org/wiki/ASCII)\n",
    "![ascii](https://upload.wikimedia.org/wikipedia/commons/thumb/1/1b/ASCII-Table-wide.svg/875px-ASCII-Table-wide.svg.png)"
   ]
  },
  {
   "cell_type": "code",
   "execution_count": 4,
   "metadata": {
    "pycharm": {
     "name": "#%%\n"
    }
   },
   "outputs": [
    {
     "name": "stdout",
     "output_type": "stream",
     "text": [
      "97\n",
      "a\n"
     ]
    }
   ],
   "source": [
    "print(ord('a'))\n",
    "print(chr(97))\n",
    "# we will discuss other character sets later."
   ]
  },
  {
   "cell_type": "code",
   "execution_count": 1,
   "outputs": [
    {
     "name": "stdout",
     "output_type": "stream",
     "text": [
      "w\n",
      "llo, world\n",
      "llo\n",
      "d\n",
      "hlo ol\n",
      "dlrow ,olleh\n",
      "12\n"
     ]
    }
   ],
   "source": [
    "# string = list of chars => slice and dice\n",
    "s = 'hello, world'\n",
    "print(s[7])  # character by position\n",
    "print(s[2:])  # llo, world, start with position 2 (index starts from 0)\n",
    "print(s[2:5])  # llo, start included, end excluded\n",
    "print(s[-1])  # d, last element.\n",
    "print(s[::2])  # hlo ol, every other letter, step 2. stride of 2\n",
    "print(s[::-1])  # reverse order\n",
    "\n",
    "print(len(s))"
   ],
   "metadata": {
    "collapsed": false,
    "pycharm": {
     "name": "#%%\n"
    }
   }
  },
  {
   "cell_type": "code",
   "execution_count": 6,
   "outputs": [
    {
     "name": "stderr",
     "output_type": "stream",
     "text": [
      "Traceback (most recent call last):\n",
      "  File \"<ipython-input-6-e55d5583569f>\", line 2, in <module>\n",
      "    s[4] = 'y' # string is immutable, this will fail\n",
      "TypeError: 'str' object does not support item assignment\n"
     ]
    }
   ],
   "source": [
    "try:\n",
    "    s[4] = 'y' # string is immutable, this will fail\n",
    "except:\n",
    "    import traceback\n",
    "    traceback.print_exc()"
   ],
   "metadata": {
    "collapsed": false,
    "pycharm": {
     "name": "#%%\n"
    }
   }
  },
  {
   "cell_type": "code",
   "execution_count": 7,
   "metadata": {
    "pycharm": {
     "name": "#%%\n"
    }
   },
   "outputs": [
    {
     "name": "stdout",
     "output_type": "stream",
     "text": [
      "<class 'str'>\n",
      "1234\n",
      "3.14\n",
      "<class 'str'>\n",
      "<class 'int'>\n",
      "True\n"
     ]
    }
   ],
   "source": [
    "# Types and casting\n",
    "print(type(\"Hello\"))  # class 'str'\n",
    "\n",
    "# casting\n",
    "print(int('01234'))  # can convert string to int too, except if not int\n",
    "print(float('3.14'))\n",
    "\n",
    "print(type('1234'))  # <class 'str'>\n",
    "print(type(int('1234')))  # <class 'int'>\n",
    "print(isinstance(1234, int))  # True"
   ]
  },
  {
   "cell_type": "markdown",
   "metadata": {
    "pycharm": {
     "name": "#%% md\n"
    }
   },
   "source": [
    "## Section 2.1 String functions\n",
    "\n",
    "Python string has many convenient methods:\n",
    "https://docs.python.org/3/library/stdtypes.html#string-methods\n",
    "They are very handy, so get familiar with them."
   ]
  },
  {
   "cell_type": "code",
   "execution_count": 8,
   "metadata": {
    "pycharm": {
     "name": "#%%\n"
    }
   },
   "outputs": [
    {
     "name": "stdout",
     "output_type": "stream",
     "text": [
      "Hello, world\n",
      "HELLO, WORLD\n",
      "Hello, World\n",
      "7\n",
      "True\n",
      "4\n",
      "8\n",
      "8\n",
      "-1\n"
     ]
    }
   ],
   "source": [
    "s = 'hello, world'\n",
    "print(s.capitalize())\n",
    "print(s.upper())\n",
    "print(s.title())\n",
    "\n",
    "print(s.index('world'))\n",
    "print('llo' in s)\n",
    "print(s.index('o'))  # 4, first index of o\n",
    "# how to find second index? what about all indices?\n",
    "print(s.index('o', s.index('o') + 1))  # 8\n",
    "print(s.rfind('o'))  # same as above\n",
    "print(s.find('wold'))  # not found, return -1"
   ]
  },
  {
   "cell_type": "code",
   "execution_count": 9,
   "outputs": [
    {
     "name": "stdout",
     "output_type": "stream",
     "text": [
      "[hello, world]\n",
      "[hello, world ]\n",
      "[ hello, world]\n",
      "[Hello]\n",
      "[Hello          ]\n",
      "[          Hello]\n"
     ]
    }
   ],
   "source": [
    "print('[' + ' hello, world '.strip() + ']')\n",
    "print('[' + ' hello, world '.lstrip() + ']')\n",
    "print('[' + ' hello, world '.rstrip() + ']')\n",
    "\n",
    "print('[' + 'Hello' + ']')\n",
    "print('[' + 'Hello'.ljust(15) + ']')\n",
    "print('[' + 'Hello'.rjust(15) + ']')"
   ],
   "metadata": {
    "collapsed": false,
    "pycharm": {
     "name": "#%%\n"
    }
   }
  },
  {
   "cell_type": "code",
   "execution_count": 10,
   "outputs": [
    {
     "name": "stdout",
     "output_type": "stream",
     "text": [
      "['I', 'do', 'not', 'like', 'green', 'eggs', 'and', 'ham.', 'Sam', 'I', 'am.']\n",
      "I-do-not-like-green-eggs-and-ham.-Sam-I-am.\n",
      "I- -d-o- -n-o-t- -l-i-k-e- -g-r-e-e-n- -e-g-g-s- -a-n-d- -h-a-m-.- -S-a-m- -I- -a-m-.\n"
     ]
    }
   ],
   "source": [
    "s = \"I do not like green eggs and ham. Sam I am.\"\n",
    "print(s.split(' '))\n",
    "print('-'.join(s.split()))\n",
    "# string is treated as list of chars, as we saw before\n",
    "print('-'.join(s))\n",
    "\n",
    "# may use re module to find all if no special chars: [s.start() for s in re.finditer(':', s)]\n",
    "# or use a loop/generator"
   ],
   "metadata": {
    "collapsed": false,
    "pycharm": {
     "name": "#%%\n"
    }
   }
  },
  {
   "cell_type": "markdown",
   "metadata": {},
   "source": [
    "## Section 2.3 String Formatting"
   ]
  },
  {
   "cell_type": "code",
   "execution_count": 11,
   "metadata": {
    "pycharm": {
     "name": "#%%\n"
    }
   },
   "outputs": [
    {
     "name": "stdout",
     "output_type": "stream",
     "text": [
      "I do not like green eggs and ham\n",
      "I am Sam. I am Sam. Sam-I-Am\n",
      "I do not like them here or there\n",
      "I do not like them here or there\n"
     ]
    }
   ],
   "source": [
    "# string format\n",
    "print('I do not like {} and {}'.format('green eggs', 'ham'))\n",
    "print('I am {0}. I am {0}. {0}-I-Am'.format('Sam'))  # no duplicates\n",
    "print('I do not like them {1} or {0}'.format('there', 'here'))  # by position index\n",
    "print('I do not like them {h} or {t}'.format(t='there', h='here'))  # by keyed index"
   ]
  },
  {
   "cell_type": "code",
   "execution_count": 12,
   "outputs": [
    {
     "name": "stdout",
     "output_type": "stream",
     "text": [
      "I do not like them here or there\n",
      "I do not like them here                 or there\n",
      "I do not like them                 here or there\n",
      "I do not like them here                 or there\n",
      "I do not like them         here         or there\n",
      "I do not like them here________________ or there\n"
     ]
    }
   ],
   "source": [
    "# f-string is more powerful: https://www.python.org/dev/peps/pep-0498/\n",
    "there = 'there'\n",
    "here = 'here'\n",
    "print(f'I do not like them {here} or {there}')  # use variable names directly\n",
    "print(f'I do not like them {here!s:20} or {there}')  # 20 or <20, left justified\n",
    "print(f'I do not like them {here!s:>20} or {there}')  # right justified\n",
    "print(f'I do not like them {here!s:<20} or {there}')  # left justified\n",
    "print(f'I do not like them {here!s:^20} or {there}')  # center justified\n",
    "print(f'I do not like them {here!s:_<20} or {there}')  # fill with _"
   ],
   "metadata": {
    "collapsed": false,
    "pycharm": {
     "name": "#%%\n"
    }
   }
  },
  {
   "cell_type": "code",
   "execution_count": 13,
   "outputs": [
    {
     "name": "stdout",
     "output_type": "stream",
     "text": [
      "2 + 3 = 5\n",
      "123.457\n",
      "123.4567890000\n",
      "     123.457\n",
      "123.457\n",
      "1.234568e+02\n"
     ]
    }
   ],
   "source": [
    "# number format, can take python expression\n",
    "print(f'2 + 3 = {2 + 3}')\n",
    "a = 123.456789\n",
    "print(f'{a:.3f}')  # 123.457\n",
    "print(f'{a:.10f}')  # 123.4567890000\n",
    "print(f'{a:12.3f}')  # 12 - 4 = 8 positions before .\n",
    "print(f'{a:<.3f}')\n",
    "print(f'{a:.6e}')"
   ],
   "metadata": {
    "collapsed": false,
    "pycharm": {
     "name": "#%%\n"
    }
   }
  },
  {
   "cell_type": "code",
   "execution_count": 14,
   "outputs": [
    {
     "name": "stdout",
     "output_type": "stream",
     "text": [
      "0012345\n",
      "12345     \n",
      "     12345\n",
      "+12345    \n",
      "    +12345\n",
      "    -12345\n",
      "208\n",
      "0X208\n",
      "1010\n",
      "1000001000\n",
      "5.200000e+02\n"
     ]
    }
   ],
   "source": [
    "b = 12345\n",
    "print(f'{b:07}')  # 0012345\n",
    "print(f'{b:<10}')\n",
    "print(f'{b:>10}')\n",
    "print(f'{b:<+10}')\n",
    "print(f'{b:>+10}')\n",
    "b = -12345\n",
    "print(f'{b:>+10}')\n",
    "\n",
    "c = 520\n",
    "print(f'{c:x}')  # hex 208\n",
    "print(f'{c:#X}')\n",
    "print(f'{c:o}')  # oct\n",
    "print(f'{c:b}')  # binary\n",
    "print(f'{c:e}')  # scientific notation"
   ],
   "metadata": {
    "collapsed": false,
    "pycharm": {
     "name": "#%%\n"
    }
   }
  },
  {
   "cell_type": "code",
   "execution_count": 15,
   "outputs": [
    {
     "name": "stdout",
     "output_type": "stream",
     "text": [
      "00001100\n",
      "0000001100\n",
      "1,000,000,000,000\n"
     ]
    }
   ],
   "source": [
    "x = 12\n",
    "print(format(x, '08b'))\n",
    "print(format(x, '010b'))\n",
    "\n",
    "print('{:,}'.format(1000000000000))  # add comma every 3 digit, in finance.\n",
    "\n",
    "\n",
    "# https://realpython.com/python-f-strings/\n",
    "\n",
    "# https://en.wikipedia.org/wiki/Binary_code\n",
    "\n",
    "# phone number 1234567890 -> 123-456-7890, (123) 456-7890"
   ],
   "metadata": {
    "collapsed": false,
    "pycharm": {
     "name": "#%%\n"
    }
   }
  },
  {
   "cell_type": "markdown",
   "metadata": {},
   "source": [
    "## Section 2.4 Unicode and Encoding\n",
    "\n",
    "To deal with many languages in the world, we expand the ascii character set to\n",
    "unicode (https://home.unicode.org/).\n",
    "\n",
    "Over time, we expanded the ascii character set, https://www.ascii-code.com/,\n",
    "which is 1 byte long. Then we expanded to 2-byte unicode, and then 3-byte\n",
    "unicode. Now we end up with variable length unicode.\n",
    "\n",
    "This is related to i18n (https://en.wikipedia.org/wiki/Internationalization_and_localization).\n",
    "\n",
    "We use charset, short for character set.\n",
    "\n",
    "Before we have unicode, many charsets were built to deal with languages\n",
    "like Chinese. Due to mismatch or missing charsets, it was a pain to find a way\n",
    "around, especially when you played games\n",
    "\n",
    "![missing_charset](wrong_charset.jpg)\n",
    "\n",
    "(from: https://m.3dmgame.com/news/201705/3657112_2.html)\n",
    "\n",
    "Given a series of bits, you have to guess which charset it maps to.\n",
    "\n",
    "Now with unicode, we don't need to guess anymore (occasionally we still run into\n",
    "this again).\n",
    "\n",
    "we can input Greek, Chinese, or emoji characters.\n",
    "\n",
    "Here is a good reference to look into details.\n",
    "https://stackoverflow.com/questions/643694/what-is-the-difference-between-utf-8-and-unicode\n",
    "\n",
    "All Python string literals are unicode. That's the good news. However, when you retrieve\n",
    "data from files sent by others, databases, web pages, you may still encounter the data\n",
    "not using unicode. In that case, you have to guess which charset they are using."
   ]
  },
  {
   "cell_type": "code",
   "execution_count": 16,
   "metadata": {
    "pycharm": {
     "name": "#%%\n"
    }
   },
   "outputs": [
    {
     "name": "stdout",
     "output_type": "stream",
     "text": [
      "你好，世界\n",
      "α δ ε\n",
      "1\n",
      "2\n",
      "3\n"
     ]
    }
   ],
   "source": [
    "print(\"你好，世界\")\n",
    "\n",
    "# https://pythonforundergradengineers.com/unicode-characters-in-python.html\n",
    "print('\\u03B1 \\u03B4 \\u03B5')  # greek letters: α δ ε\n",
    "\n",
    "# utf-8 is a variable length charset\n",
    "print(len('a'.encode('utf-8')))  # 1 byte, for English\n",
    "print(len('ε'.encode('utf-8')))  # 2 bytes, for Europe\n",
    "print(len('好'.encode('utf-8')))  # use 3 bytes to store the char in utf-8, Chinese\n"
   ]
  },
  {
   "cell_type": "code",
   "execution_count": 17,
   "outputs": [
    {
     "name": "stdout",
     "output_type": "stream",
     "text": [
      "ε\n",
      "1\n",
      "b'\\xce\\xb5'\n",
      "2\n",
      "ε\n"
     ]
    }
   ],
   "source": [
    "# unicode represents characters. it can be encoded into charset.\n",
    "print('\\u03B5')  # this is unicode\n",
    "print(len('\\u03B5'))  # 1, just one unicode character\n",
    "print('\\u03B5'.encode('utf-8'))  # b'\\xce\\xb5', encode unicode to byte string, 2 bytes\n",
    "print(len(b'\\xce\\xb5'))  # 2 bytes\n",
    "print(b'\\xce\\xb5'.decode('utf-8'))  # ε, decode byte array to unicode"
   ],
   "metadata": {
    "collapsed": false,
    "pycharm": {
     "name": "#%%\n"
    }
   }
  },
  {
   "cell_type": "code",
   "execution_count": 18,
   "outputs": [
    {
     "name": "stdout",
     "output_type": "stream",
     "text": [
      "b'\\xa6\\xc5'\n",
      "b'abc'\n",
      "abc\n",
      "µ\n"
     ]
    }
   ],
   "source": [
    "# another encoding: don't use latin-1 since it can't fit in\n",
    "print('\\u03B5'.encode('cp936'))  # b'\\xa6\\xc5'\n",
    "\n",
    "print(b'abc')  # binary abc, as bytes\n",
    "print(b'abc'.decode('utf-8'))\n",
    "print(b'\\xc2\\xb5'.decode('utf-8'))  # µ"
   ],
   "metadata": {
    "collapsed": false,
    "pycharm": {
     "name": "#%%\n"
    }
   }
  },
  {
   "cell_type": "markdown",
   "metadata": {},
   "source": [
    "https://blog.csdn.net/ywcpig/article/details/52250277\n",
    "https://blog.csdn.net/tgvincent/article/details/93884725\n",
    "https://blog.csdn.net/cy_baicai/article/details/82897724\n",
    "\n",
    "Python code itself is unicode, so we may define Unicode variables names."
   ]
  },
  {
   "cell_type": "code",
   "execution_count": 19,
   "metadata": {
    "pycharm": {
     "name": "#%%\n"
    }
   },
   "outputs": [
    {
     "name": "stdout",
     "output_type": "stream",
     "text": [
      "1024\n",
      "1.618\n",
      "'Pyth\\xf6n rocks'\n"
     ]
    }
   ],
   "source": [
    "# unicode variable name\n",
    "你好 = 1024\n",
    "print(你好)\n",
    "\n",
    "Σ = 1.618\n",
    "print(Σ)\n",
    "\n",
    "normalText = 'Pythön rocks'\n",
    "print(ascii(normalText))"
   ]
  },
  {
   "cell_type": "code",
   "source": [
    "# bytes([source[, encoding[, errors]]])\n",
    "# bytearray([source[, encoding[, errors]]])\n",
    "\n",
    "x = b\"monkey\"\n",
    "y = b'''apple,\n",
    "banana,\n",
    "pear\n",
    "'''\n",
    "z = bytes('Python, bytes', 'utf8')\n",
    "\n",
    "print(x)\n",
    "print(y)\n",
    "print(z)\n",
    "\n",
    "# convert bytes to string\n",
    "p = b'El ni\\xc3\\xb1o come camar\\xc3\\xb3n'\n",
    "s = p.decode()\n",
    "print(s)\n",
    "\n",
    "# length of bytes object\n",
    "a = bytes(\"Python, Bytes\", \"utf8\")\n",
    "print(len(a))\n",
    "\n",
    "# + and * operators\n",
    "print(x * 5)\n",
    "print(x + y)"
   ],
   "metadata": {
    "collapsed": false,
    "pycharm": {
     "name": "#%%\n"
    }
   },
   "execution_count": 9,
   "outputs": [
    {
     "name": "stdout",
     "output_type": "stream",
     "text": [
      "b'monkey'\n",
      "b'apple,\\nbanana,\\npear\\n'\n",
      "b'Python, bytes'\n",
      "El niño come camarón\n",
      "13\n",
      "b'monkeymonkeymonkeymonkeymonkey'\n",
      "b'monkeyapple,\\nbanana,\\npear\\n'\n"
     ]
    }
   ]
  },
  {
   "cell_type": "code",
   "execution_count": 20,
   "metadata": {
    "pycharm": {
     "name": "#%%\n"
    }
   },
   "outputs": [
    {
     "name": "stdout",
     "output_type": "stream",
     "text": [
      "<class 'bytes'>\n",
      "<class 'str'>\n"
     ]
    }
   ],
   "source": [
    "print(type(b'abc'))  # <class 'bytes'>\n",
    "print(type(u'abc'))  # <class 'str'>\n",
    "\n",
    "print(r'abc\\n\\t')\n"
   ]
  },
  {
   "cell_type": "code",
   "execution_count": 1,
   "outputs": [
    {
     "name": "stdout",
     "output_type": "stream",
     "text": [
      "utf-8\n",
      "UTF-8\n",
      "UTF-8\n",
      "Help on function getpreferredencoding in module locale:\n",
      "\n",
      "getpreferredencoding(do_setlocale=True)\n",
      "    Return the charset that the user is likely using,\n",
      "    according to the system configuration.\n",
      "\n",
      "None\n",
      "abc\\n\\t\n"
     ]
    }
   ],
   "source": [
    "import sys, locale\n",
    "print(sys.getdefaultencoding())  # utf-8\n",
    "print(locale.getpreferredencoding())  # cp936\n",
    "print(sys.stdout.encoding)  # utf-8\n",
    "\n",
    "print(help(locale.getpreferredencoding))  # print the doc for this method"
   ],
   "metadata": {
    "collapsed": false,
    "pycharm": {
     "name": "#%%\n"
    }
   }
  }
 ],
 "metadata": {
  "kernelspec": {
   "display_name": "Python 3",
   "language": "python",
   "name": "python3"
  },
  "language_info": {
   "codemirror_mode": {
    "name": "ipython",
    "version": 3
   },
   "file_extension": ".py",
   "mimetype": "text/x-python",
   "name": "python",
   "nbconvert_exporter": "python",
   "pygments_lexer": "ipython3",
   "version": "3.8.5"
  }
 },
 "nbformat": 4,
 "nbformat_minor": 1
}