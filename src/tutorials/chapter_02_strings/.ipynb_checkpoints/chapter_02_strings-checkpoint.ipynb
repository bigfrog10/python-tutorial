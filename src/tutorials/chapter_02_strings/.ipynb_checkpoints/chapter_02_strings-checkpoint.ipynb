{
 "cells": [
  {
   "cell_type": "markdown",
   "metadata": {
    "collapsed": true,
    "pycharm": {
     "name": "#%% md\n"
    }
   },
   "source": [
    "# Chapter 2. Strings\n",
    "String is an array of characters. Each character is encoded as an array of\n",
    "bits.\n",
    "\n",
    "Given an array of bits, data type indicator tells us these bits are numbers,\n",
    "string, or others."
   ]
  },
  {
   "cell_type": "markdown",
   "metadata": {
    "pycharm": {
     "name": "#%% md\n"
    }
   },
   "source": [
    "## Section 2.1 String Basics\n",
    "\n",
    "There are several ways to specify string literals."
   ]
  },
  {
   "cell_type": "code",
   "execution_count": 3,
   "metadata": {
    "pycharm": {
     "name": "#%%\n"
    }
   },
   "outputs": [
    {
     "name": "stdout",
     "output_type": "stream",
     "text": [
      "hello, world\n",
      "hello, world\n",
      "hello\n",
      "world\n",
      "\n",
      "hello\n",
      "world\n",
      "\n"
     ]
    }
   ],
   "source": [
    "print('hello, world')  # single quote\n",
    "print(\"hello, world\")  # double quote\n",
    "print('''hello\n",
    "world\n",
    "''')  # 3 single quotes, as is. In this case, 3 lines.\n",
    "print(\"\"\"hello\n",
    "world\n",
    "\"\"\")  # 3 double quotes."
   ]
  },
  {
   "cell_type": "code",
   "execution_count": 7,
   "metadata": {
    "pycharm": {
     "name": "#%%\n"
    }
   },
   "outputs": [
    {
     "name": "stdout",
     "output_type": "stream",
     "text": [
      "hello,\tworld!\n",
      "End\\\n",
      "hello, \"O'Brian\"\n",
      "hello, O'Brian\n",
      "Raw data \\t\n"
     ]
    }
   ],
   "source": [
    "# invisible and escape characters\n",
    "print('hello,\\tworld!\\nEnd\\\\')  # tab, ' inside, new line\n",
    "print('hello, \"O\\'Brian\"')\n",
    "print(\"hello, O'Brian\")\n",
    "\n",
    "print(r'Raw data \\t')  # raw string, no tab"
   ]
  },
  {
   "cell_type": "code",
   "execution_count": 11,
   "metadata": {
    "pycharm": {
     "name": "#%%\n"
    }
   },
   "outputs": [
    {
     "name": "stdout",
     "output_type": "stream",
     "text": [
      "hello world\n",
      "--------------------------------------------------------------------------------\n"
     ]
    }
   ],
   "source": [
    "# operators\n",
    "print('hello ' + 'world')\n",
    "print('-' * 80)\n"
   ]
  },
  {
   "cell_type": "markdown",
   "metadata": {
    "pycharm": {
     "name": "#%% md\n"
    }
   },
   "source": [
    "Each String is an array of characters. Characters are defined in character tables.\n",
    "The most basic character table is ascii table (https://en.wikipedia.org/wiki/ASCII)\n",
    "![ascii](https://upload.wikimedia.org/wikipedia/commons/thumb/1/1b/ASCII-Table-wide.svg/875px-ASCII-Table-wide.svg.png)"
   ]
  },
  {
   "cell_type": "code",
   "execution_count": 10,
   "metadata": {
    "pycharm": {
     "name": "#%%\n"
    }
   },
   "outputs": [
    {
     "name": "stdout",
     "output_type": "stream",
     "text": [
      "97\n",
      "a\n",
      "'Pyth\\xf6n rocks'\n"
     ]
    }
   ],
   "source": [
    "# ascii https://en.wikipedia.org/wiki/ASCII\n",
    "print(ord('a'))\n",
    "print(chr(97))\n"
   ]
  },
  {
   "cell_type": "code",
   "execution_count": null,
   "metadata": {
    "pycharm": {
     "name": "#%%\n"
    }
   },
   "outputs": [],
   "source": [
    "print(type(b'abc'))  # <class 'bytes'>\n",
    "print(type(u'abc'))  # <class 'str'>\n",
    "\n",
    "# casting\n",
    "print(int('01234'))  # can convert string to int too, except if not int\n",
    "print(float('3.14'))\n",
    "\n",
    "print(type('1234'))  # <class 'str'>\n",
    "print(type(int('1234')))  # <class 'int'>\n",
    "print(isinstance(1234, int))  # True"
   ]
  },
  {
   "cell_type": "markdown",
   "metadata": {
    "pycharm": {
     "name": "#%% md\n"
    }
   },
   "source": [
    "## Section 2.1 String functions"
   ]
  },
  {
   "cell_type": "code",
   "execution_count": null,
   "metadata": {
    "pycharm": {
     "name": "#%%\n"
    }
   },
   "outputs": [],
   "source": [
    "s = 'hello, world'\n",
    "print(len(s))\n",
    "print(len(s))  #\n",
    "print(s.index('world')) # a lot of other methods, such as split\n",
    "print('llo' in s)\n",
    "print(s.index('o'))  # 4, first index of o\n",
    "# how to find second index? what about all indices?\n",
    "print(s.index('o', s.index('o') + 1))  # 8\n",
    "# may use re module to find all if no special chars: [s.start() for s in re.finditer(':', s)]\n",
    "# or use a loop/generator"
   ]
  },
  {
   "cell_type": "markdown",
   "metadata": {},
   "source": [
    "String is an array of characters\n"
   ]
  },
  {
   "cell_type": "code",
   "execution_count": null,
   "metadata": {
    "pycharm": {
     "name": "#%%\n"
    }
   },
   "outputs": [],
   "source": [
    "s = 'hello, world'\n",
    "print(s[3])\n",
    "print(s[2:])  # llo, world, start with position 2 (index starts from 0)\n",
    "print(s[2:5])  # llo, start included, end excluded\n",
    "print(s[7])  # w\n",
    "print(s[-1])  # d, last element.\n",
    "print(s[::2])  # hlo ol, every other letter, step 2. stride of 2\n",
    "print(s[::-1])  # reverse order\n",
    "\n",
    "s[4] = 'y' # string is immutable, this will fail"
   ]
  },
  {
   "cell_type": "markdown",
   "metadata": {},
   "source": [
    "## Section 2.3 String Formatting"
   ]
  },
  {
   "cell_type": "code",
   "execution_count": null,
   "metadata": {
    "pycharm": {
     "name": "#%%\n"
    }
   },
   "outputs": [],
   "source": [
    "# string format\n",
    "print('I do not like {} and {}'.format('green eggs', 'ham'))\n",
    "print('I am {0}. I am {0}. {0}-I-Am'.format('Sam'))  # no duplicates\n",
    "print('I do not like them {1} or {0}'.format('there', 'here'))  # by position index\n",
    "print('I do not like them {h} or {t}'.format(t='there', h='here'))  # by keyed index\n",
    "\n",
    "# f-string is more powerful: https://www.python.org/dev/peps/pep-0498/\n",
    "there = 'there'\n",
    "here = 'here'\n",
    "print(f'I do not like them {here} or {there}')  # use variable names directly\n",
    "print(f'I do not like them {here!s:20} or {there}')  # 20 or <20, left justified\n",
    "print(f'I do not like them {here!s:>20} or {there}')  # right justified\n",
    "print(f'I do not like them {here!s:<20} or {there}')  # left justified\n",
    "print(f'I do not like them {here!s:^20} or {there}')  # center justified\n",
    "print(f'I do not like them {here!s:_<20} or {there}')  # fill with _\n",
    "\n",
    "# number format, can take python expression\n",
    "print(f'2 + 3 = {2 + 3}')\n",
    "a = 123.456789\n",
    "print(f'{a:.3f}')  # 123.457\n",
    "print(f'{a:.10f}')  # 123.4567890000\n",
    "print(f'{a:12.3f}')  # 12 - 4 = 8 positions before .\n",
    "print(f'{a:<.3f}')\n",
    "print(f'{a:.6e}')\n",
    "\n",
    "b = 12345\n",
    "print(f'{b:07}')  # 0012345\n",
    "print(f'{b:<10}')\n",
    "print(f'{b:>10}')\n",
    "print(f'{b:<+10}')\n",
    "print(f'{b:>+10}')\n",
    "b = -12345\n",
    "print(f'{b:>+10}')\n",
    "\n",
    "c = 520\n",
    "print(f'{c:x}')  # hex 208\n",
    "print(f'{c:#X}')\n",
    "print(f'{c:o}')  # oct\n",
    "print(f'{c:b}')  # binary\n",
    "print(f'{c:e}')  # scientific notation\n",
    "\n",
    "x = 12\n",
    "print(format(x, '08b'))\n",
    "print(format(x, '010b'))\n",
    "\n",
    "print('{:,}'.format(1000000000000))  # add comma every 3 digit, in finance.\n",
    "\n",
    "\n",
    "# https://realpython.com/python-f-strings/\n",
    "\n",
    "# https://en.wikipedia.org/wiki/Binary_code\n",
    "\n",
    "# phone number 1234567890 -> 123-456-7890, (123) 456-7890"
   ]
  },
  {
   "cell_type": "markdown",
   "metadata": {},
   "source": [
    "## Section 2.4 Unicode and Encoding\n",
    "\n",
    "i18n\n",
    "bytes\n",
    "bytearray"
   ]
  },
  {
   "cell_type": "markdown",
   "metadata": {},
   "source": [
    "Python strings are unicode."
   ]
  },
  {
   "cell_type": "code",
   "execution_count": null,
   "metadata": {
    "pycharm": {
     "name": "#%%\n"
    }
   },
   "outputs": [],
   "source": [
    "print(\"你好，世界\")\n"
   ]
  },
  {
   "cell_type": "markdown",
   "metadata": {},
   "source": [
    "Python code itself is unicode, so we may define Unicode variables names."
   ]
  },
  {
   "cell_type": "code",
   "execution_count": 1,
   "metadata": {
    "pycharm": {
     "name": "#%%\n"
    }
   },
   "outputs": [
    {
     "name": "stdout",
     "output_type": "stream",
     "text": [
      "1024\n",
      "1.618\n"
     ]
    }
   ],
   "source": [
    "# unicode variable name\n",
    "你好 = 1024\n",
    "print(你好)\n",
    "\n",
    "Σ = 1.618\n",
    "print(Σ)\n",
    "\n",
    "normalText = 'Pythön rocks'\n",
    "print(ascii(normalText))\n",
    "\n",
    "\n",
    "# https://pythonforundergradengineers.com/unicode-characters-in-python.html\n",
    "print('\\u03B1 \\u03B4 \\u03B5')  # greek letters: α δ ε\n",
    "\n",
    "# unicode represents characters. it can be encoded into charset.\n",
    "print('\\u03B5')  # this is unicode\n",
    "print(len('\\u03B5'))  # 1, just one unicode character\n",
    "print('\\u03B5'.encode('utf-8'))  # b'\\xce\\xb5', encode unicode to byte string, 2 bytes\n",
    "print(len(b'\\xce\\xb5'))  # 2 bytes\n",
    "print(b'\\xce\\xb5'.decode('utf-8'))  # ε, decode byte array to unicode\n",
    "\n",
    "# utf-8 is a variable length charset\n",
    "print(len('a'.encode('utf-8')))  # 1 byte, for English\n",
    "print(len('ε'.encode('utf-8')))  # 2 bytes, for Europe\n",
    "print(len('好'.encode('utf-8')))  # use 3 bytes to store the char in utf-8, Chinese\n",
    "\n",
    "# another encoding: don't use latin-1 since it can't fit in\n",
    "print('\\u03B5'.encode('cp936'))  # b'\\xa6\\xc5'\n",
    "\n",
    "print(b'abc')  # binary abc, as bytes\n",
    "print(b'abc'.decode('utf-8'))\n",
    "print(b'\\xc2\\xb5'.decode('utf-8'))  # µ\n",
    "\n",
    "import sys, locale\n",
    "print(sys.getdefaultencoding())  # utf-8\n",
    "print(locale.getpreferredencoding())  # cp936\n",
    "print(sys.stdout.encoding)  # utf-8\n",
    "\n",
    "print(help(locale.getpreferredencoding))  # print the doc for this method"
   ]
  }
 ],
 "metadata": {
  "kernelspec": {
   "display_name": "Python 3",
   "language": "python",
   "name": "python3"
  },
  "language_info": {
   "codemirror_mode": {
    "name": "ipython",
    "version": 3
   },
   "file_extension": ".py",
   "mimetype": "text/x-python",
   "name": "python",
   "nbconvert_exporter": "python",
   "pygments_lexer": "ipython3",
   "version": "3.8.5"
  }
 },
 "nbformat": 4,
 "nbformat_minor": 1
}
